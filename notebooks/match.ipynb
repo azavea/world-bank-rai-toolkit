{
 "cells": [
  {
   "cell_type": "code",
   "execution_count": 1,
   "metadata": {},
   "outputs": [],
   "source": [
    "from typing import Tuple, Iterable, List\n",
    "from pprint import pformat\n",
    "import random\n",
    "import pickle\n",
    "import os\n",
    "from pathlib import Path\n",
    "from collections import defaultdict"
   ]
  },
  {
   "cell_type": "code",
   "execution_count": 2,
   "metadata": {},
   "outputs": [
    {
     "name": "stderr",
     "output_type": "stream",
     "text": [
      "/home/adeel/anaconda3/lib/python3.7/site-packages/geopandas/_compat.py:110: UserWarning: The Shapely GEOS version (3.8.0-CAPI-1.13.1 ) is incompatible with the GEOS version PyGEOS was compiled with (3.9.1-CAPI-1.14.2). Conversions between both will be slow.\n",
      "  shapely_geos_version, geos_capi_version_string\n"
     ]
    }
   ],
   "source": [
    "import pandas as pd\n",
    "import geopandas as gpd\n",
    "import numpy as np\n",
    "from tqdm import tqdm"
   ]
  },
  {
   "cell_type": "code",
   "execution_count": 3,
   "metadata": {},
   "outputs": [],
   "source": [
    "from pyproj import Geod, CRS\n",
    "from shapely.geometry import Point, LineString"
   ]
  },
  {
   "cell_type": "code",
   "execution_count": null,
   "metadata": {},
   "outputs": [],
   "source": [
    "import osmnx as ox\n",
    "import networkx as nx\n",
    "from networkx.classes.function import path_weight\n",
    "import gc\n",
    "ox.config(use_cache=True, log_console=True)"
   ]
  },
  {
   "cell_type": "code",
   "execution_count": 5,
   "metadata": {},
   "outputs": [],
   "source": [
    "from itertools import product\n",
    "from functools import lru_cache"
   ]
  },
  {
   "cell_type": "code",
   "execution_count": 6,
   "metadata": {},
   "outputs": [],
   "source": [
    "import matplotlib.pyplot as plt\n",
    "import matplotlib.patches as patches\n",
    "import seaborn as sns\n",
    "sns.reset_defaults()\n",
    "\n",
    "plt.style.use(\"dark_background\")"
   ]
  },
  {
   "cell_type": "code",
   "execution_count": 7,
   "metadata": {},
   "outputs": [],
   "source": [
    "import geojson\n",
    "import json\n",
    "from shapely.geometry import mapping\n",
    "from shapely.geometry.multilinestring import MultiLineString"
   ]
  },
  {
   "cell_type": "code",
   "execution_count": 8,
   "metadata": {},
   "outputs": [],
   "source": [
    "from fuzzywuzzy import fuzz\n",
    "from fuzzywuzzy import process"
   ]
  },
  {
   "cell_type": "code",
   "execution_count": 9,
   "metadata": {},
   "outputs": [],
   "source": [
    "GEOD = CRS.from_epsg(4326).get_geod()"
   ]
  },
  {
   "cell_type": "code",
   "execution_count": 10,
   "metadata": {
    "tags": []
   },
   "outputs": [],
   "source": [
    "# COUNTRY = 'Guatemala'\n",
    "COUNTRY = 'Paraguay'\n",
    "\n",
    "root_dirs = {\n",
    "    'Guatemala': Path('/home/adeel/2021 - RAI Toolkit-20210528T125906Z-001/2021 - RAI Toolkit/Country Data/Guatemala_4-19-2021'),\n",
    "    'Paraguay': Path('/home/adeel/2021 - RAI Toolkit-20210528T125906Z-001/2021 - RAI Toolkit/Country Data/Paraguay'),\n",
    "}\n",
    "\n",
    "file_paths = {\n",
    "    'geonames': {\n",
    "        'Guatemala': Path('GT/GT.txt'),\n",
    "        'Paraguay': Path('PY/PY.txt'),\n",
    "    },\n",
    "    'wb_data': {\n",
    "        'Guatemala': Path('simple_cases.csv'),\n",
    "        'Paraguay': Path('simple_cases.csv'),\n",
    "    },\n",
    "    'graph': {\n",
    "        'Guatemala': Path('graph.graphml'),\n",
    "        'Paraguay': Path('graph.graphml'),\n",
    "    },\n",
    "}\n",
    "\n",
    "os.chdir(root_dirs[COUNTRY])"
   ]
  },
  {
   "cell_type": "markdown",
   "metadata": {},
   "source": [
    "## Load WB data"
   ]
  },
  {
   "cell_type": "code",
   "execution_count": 78,
   "metadata": {
    "scrolled": true,
    "tags": []
   },
   "outputs": [
    {
     "data": {
      "text/html": [
       "<div>\n",
       "<style scoped>\n",
       "    .dataframe tbody tr th:only-of-type {\n",
       "        vertical-align: middle;\n",
       "    }\n",
       "\n",
       "    .dataframe tbody tr th {\n",
       "        vertical-align: top;\n",
       "    }\n",
       "\n",
       "    .dataframe thead th {\n",
       "        text-align: right;\n",
       "    }\n",
       "</style>\n",
       "<table border=\"1\" class=\"dataframe\">\n",
       "  <thead>\n",
       "    <tr style=\"text-align: right;\">\n",
       "      <th></th>\n",
       "      <th>name</th>\n",
       "      <th>length</th>\n",
       "      <th>roughness</th>\n",
       "      <th>endpoint_1</th>\n",
       "      <th>endpoint_2</th>\n",
       "    </tr>\n",
       "  </thead>\n",
       "  <tbody>\n",
       "    <tr>\n",
       "      <th>0</th>\n",
       "      <td>4 mojones - ytoror</td>\n",
       "      <td>0.712112</td>\n",
       "      <td>4.00</td>\n",
       "      <td>4 mojones</td>\n",
       "      <td>ytoror</td>\n",
       "    </tr>\n",
       "    <tr>\n",
       "      <th>1</th>\n",
       "      <td>acceso sur - villeta</td>\n",
       "      <td>9.290712</td>\n",
       "      <td>4.65</td>\n",
       "      <td>acceso sur</td>\n",
       "      <td>villeta</td>\n",
       "    </tr>\n",
       "    <tr>\n",
       "      <th>2</th>\n",
       "      <td>alto vera -  karona</td>\n",
       "      <td>2.511536</td>\n",
       "      <td>5.00</td>\n",
       "      <td>alto vera</td>\n",
       "      <td>karona</td>\n",
       "    </tr>\n",
       "    <tr>\n",
       "      <th>3</th>\n",
       "      <td>alto vera - ynamb</td>\n",
       "      <td>10.679650</td>\n",
       "      <td>5.00</td>\n",
       "      <td>alto vera</td>\n",
       "      <td>ynamb</td>\n",
       "    </tr>\n",
       "    <tr>\n",
       "      <th>4</th>\n",
       "      <td>altos - atyr</td>\n",
       "      <td>9.380511</td>\n",
       "      <td>5.00</td>\n",
       "      <td>altos</td>\n",
       "      <td>atyr</td>\n",
       "    </tr>\n",
       "    <tr>\n",
       "      <th>...</th>\n",
       "      <td>...</td>\n",
       "      <td>...</td>\n",
       "      <td>...</td>\n",
       "      <td>...</td>\n",
       "      <td>...</td>\n",
       "    </tr>\n",
       "    <tr>\n",
       "      <th>164</th>\n",
       "      <td>ypacarai - caacupe</td>\n",
       "      <td>16.198263</td>\n",
       "      <td>3.80</td>\n",
       "      <td>ypacarai</td>\n",
       "      <td>caacupe</td>\n",
       "    </tr>\n",
       "    <tr>\n",
       "      <th>165</th>\n",
       "      <td>ypacaray - pirayu</td>\n",
       "      <td>12.620605</td>\n",
       "      <td>5.00</td>\n",
       "      <td>ypacaray</td>\n",
       "      <td>pirayu</td>\n",
       "    </tr>\n",
       "    <tr>\n",
       "      <th>166</th>\n",
       "      <td>ypane - desv guarambar</td>\n",
       "      <td>0.663527</td>\n",
       "      <td>5.00</td>\n",
       "      <td>ypane</td>\n",
       "      <td>desv guarambar</td>\n",
       "    </tr>\n",
       "    <tr>\n",
       "      <th>167</th>\n",
       "      <td>ytororo - cervepa</td>\n",
       "      <td>1.683191</td>\n",
       "      <td>4.00</td>\n",
       "      <td>ytororo</td>\n",
       "      <td>cervepa</td>\n",
       "    </tr>\n",
       "    <tr>\n",
       "      <th>168</th>\n",
       "      <td>ytororo - ypan</td>\n",
       "      <td>3.657007</td>\n",
       "      <td>5.00</td>\n",
       "      <td>ytororo</td>\n",
       "      <td>ypan</td>\n",
       "    </tr>\n",
       "  </tbody>\n",
       "</table>\n",
       "<p>169 rows × 5 columns</p>\n",
       "</div>"
      ],
      "text/plain": [
       "                       name     length  roughness  endpoint_1      endpoint_2\n",
       "0        4 mojones - ytoror   0.712112       4.00   4 mojones          ytoror\n",
       "1      acceso sur - villeta   9.290712       4.65  acceso sur         villeta\n",
       "2       alto vera -  karona   2.511536       5.00   alto vera          karona\n",
       "3         alto vera - ynamb  10.679650       5.00   alto vera           ynamb\n",
       "4              altos - atyr   9.380511       5.00       altos            atyr\n",
       "..                      ...        ...        ...         ...             ...\n",
       "164      ypacarai - caacupe  16.198263       3.80    ypacarai         caacupe\n",
       "165       ypacaray - pirayu  12.620605       5.00    ypacaray          pirayu\n",
       "166  ypane - desv guarambar   0.663527       5.00       ypane  desv guarambar\n",
       "167       ytororo - cervepa   1.683191       4.00     ytororo         cervepa\n",
       "168          ytororo - ypan   3.657007       5.00     ytororo            ypan\n",
       "\n",
       "[169 rows x 5 columns]"
      ]
     },
     "execution_count": 78,
     "metadata": {},
     "output_type": "execute_result"
    }
   ],
   "source": [
    "df = pd.read_csv(file_paths['wb_data'][COUNTRY])\n",
    "df"
   ]
  },
  {
   "cell_type": "markdown",
   "metadata": {},
   "source": [
    "## Load GeoNames data"
   ]
  },
  {
   "cell_type": "code",
   "execution_count": 12,
   "metadata": {
    "tags": []
   },
   "outputs": [],
   "source": [
    "import unicodedata as ud\n",
    "\n",
    "# https://stackoverflow.com/a/15547803/5908685\n",
    "def rmdiacritics(char):\n",
    "    '''\n",
    "    Return the base character of char, by \"removing\" any\n",
    "    diacritics like accents or curls and strokes and the like.\n",
    "    '''\n",
    "    desc = ud.name(char)\n",
    "    cutoff = desc.find(' WITH ')\n",
    "    if cutoff != -1:\n",
    "        desc = desc[:cutoff]\n",
    "        try:\n",
    "            char = ud.lookup(desc)\n",
    "        except KeyError:\n",
    "            pass  # removing \"WITH ...\" produced an invalid name\n",
    "    return char\n",
    "\n",
    "def remove_diacritics(s: str):\n",
    "    if not isinstance(s, str):\n",
    "        return s\n",
    "    return ''.join(map(rmdiacritics, s))\n",
    "\n",
    "# 'Palá --> ' + remove_diacritics('Palá')"
   ]
  },
  {
   "cell_type": "code",
   "execution_count": 13,
   "metadata": {
    "tags": []
   },
   "outputs": [],
   "source": [
    "def load_geonames_data(path):\n",
    "    column_names = [\n",
    "        'geonameid',\n",
    "        'name',\n",
    "        'asciiname',\n",
    "        'alternatenames',\n",
    "        'latitude',\n",
    "        'longitude',\n",
    "        'feature class',\n",
    "        'feature code',\n",
    "        'country code',\n",
    "        'cc2',\n",
    "        'admin1 code',\n",
    "        'admin2 code',\n",
    "        'admin3 code',\n",
    "        'admin4 code',\n",
    "        'population',\n",
    "        'elevation',\n",
    "        'dem',\n",
    "        'timezone',\n",
    "        'modification '\n",
    "    ]\n",
    "    places_df = pd.read_csv(path, delimiter='\\t', header=None)\n",
    "    places_df.columns = column_names\n",
    "    places_df.loc[:, 'orig_name'] = places_df.name\n",
    "    places_df.name = places_df.asciiname.str.lower()\n",
    "    places_df.alternatenames = places_df.alternatenames.str.lower().map(remove_diacritics)\n",
    "    places_df.longitude = places_df.longitude.astype(float)\n",
    "    places_df.latitude = places_df.latitude.astype(float)\n",
    "    places_df = gpd.GeoDataFrame(places_df, geometry=gpd.points_from_xy(places_df.longitude, places_df.latitude))\n",
    "    return places_df\n",
    "    "
   ]
  },
  {
   "cell_type": "code",
   "execution_count": 14,
   "metadata": {
    "tags": []
   },
   "outputs": [
    {
     "data": {
      "text/html": [
       "<div>\n",
       "<style scoped>\n",
       "    .dataframe tbody tr th:only-of-type {\n",
       "        vertical-align: middle;\n",
       "    }\n",
       "\n",
       "    .dataframe tbody tr th {\n",
       "        vertical-align: top;\n",
       "    }\n",
       "\n",
       "    .dataframe thead th {\n",
       "        text-align: right;\n",
       "    }\n",
       "</style>\n",
       "<table border=\"1\" class=\"dataframe\">\n",
       "  <thead>\n",
       "    <tr style=\"text-align: right;\">\n",
       "      <th></th>\n",
       "      <th>geonameid</th>\n",
       "      <th>name</th>\n",
       "      <th>asciiname</th>\n",
       "      <th>alternatenames</th>\n",
       "      <th>latitude</th>\n",
       "      <th>longitude</th>\n",
       "      <th>feature class</th>\n",
       "      <th>feature code</th>\n",
       "      <th>country code</th>\n",
       "      <th>cc2</th>\n",
       "      <th>...</th>\n",
       "      <th>admin2 code</th>\n",
       "      <th>admin3 code</th>\n",
       "      <th>admin4 code</th>\n",
       "      <th>population</th>\n",
       "      <th>elevation</th>\n",
       "      <th>dem</th>\n",
       "      <th>timezone</th>\n",
       "      <th>modification</th>\n",
       "      <th>orig_name</th>\n",
       "      <th>geometry</th>\n",
       "    </tr>\n",
       "  </thead>\n",
       "  <tbody>\n",
       "    <tr>\n",
       "      <th>0</th>\n",
       "      <td>3434138</td>\n",
       "      <td>isla santa isabel</td>\n",
       "      <td>Isla Santa Isabel</td>\n",
       "      <td>isla entre rios,isla entre rios,isla santa isabel</td>\n",
       "      <td>-27.42043</td>\n",
       "      <td>-57.49094</td>\n",
       "      <td>T</td>\n",
       "      <td>ISL</td>\n",
       "      <td>PY</td>\n",
       "      <td>NaN</td>\n",
       "      <td>...</td>\n",
       "      <td>NaN</td>\n",
       "      <td>NaN</td>\n",
       "      <td>NaN</td>\n",
       "      <td>0</td>\n",
       "      <td>NaN</td>\n",
       "      <td>58</td>\n",
       "      <td>America/Asuncion</td>\n",
       "      <td>2017-10-04</td>\n",
       "      <td>Isla Santa Isabel</td>\n",
       "      <td>POINT (-57.49094 -27.42043)</td>\n",
       "    </tr>\n",
       "    <tr>\n",
       "      <th>1</th>\n",
       "      <td>3436529</td>\n",
       "      <td>24 de julio</td>\n",
       "      <td>24 De Julio</td>\n",
       "      <td>NaN</td>\n",
       "      <td>-25.08333</td>\n",
       "      <td>-57.30000</td>\n",
       "      <td>P</td>\n",
       "      <td>PPL</td>\n",
       "      <td>PY</td>\n",
       "      <td>NaN</td>\n",
       "      <td>...</td>\n",
       "      <td>306.0</td>\n",
       "      <td>NaN</td>\n",
       "      <td>NaN</td>\n",
       "      <td>0</td>\n",
       "      <td>NaN</td>\n",
       "      <td>71</td>\n",
       "      <td>America/Asuncion</td>\n",
       "      <td>2018-04-09</td>\n",
       "      <td>24 De Julio</td>\n",
       "      <td>POINT (-57.30000 -25.08333)</td>\n",
       "    </tr>\n",
       "    <tr>\n",
       "      <th>2</th>\n",
       "      <td>3436530</td>\n",
       "      <td>tres de mayo</td>\n",
       "      <td>Tres de Mayo</td>\n",
       "      <td>3 de mayo,tres de mayo</td>\n",
       "      <td>-26.48134</td>\n",
       "      <td>-56.09592</td>\n",
       "      <td>P</td>\n",
       "      <td>PPL</td>\n",
       "      <td>PY</td>\n",
       "      <td>NaN</td>\n",
       "      <td>...</td>\n",
       "      <td>611.0</td>\n",
       "      <td>NaN</td>\n",
       "      <td>NaN</td>\n",
       "      <td>0</td>\n",
       "      <td>NaN</td>\n",
       "      <td>158</td>\n",
       "      <td>America/Asuncion</td>\n",
       "      <td>2020-06-10</td>\n",
       "      <td>Tres de Mayo</td>\n",
       "      <td>POINT (-56.09592 -26.48134)</td>\n",
       "    </tr>\n",
       "    <tr>\n",
       "      <th>3</th>\n",
       "      <td>3436531</td>\n",
       "      <td>fortin zenteno</td>\n",
       "      <td>Fortin Zenteno</td>\n",
       "      <td>aliguata,alihuata,fortin zenteno,fortin zenten...</td>\n",
       "      <td>-23.16667</td>\n",
       "      <td>-59.98333</td>\n",
       "      <td>S</td>\n",
       "      <td>FT</td>\n",
       "      <td>PY</td>\n",
       "      <td>PY</td>\n",
       "      <td>...</td>\n",
       "      <td>1507.0</td>\n",
       "      <td>NaN</td>\n",
       "      <td>NaN</td>\n",
       "      <td>0</td>\n",
       "      <td>NaN</td>\n",
       "      <td>133</td>\n",
       "      <td>America/Asuncion</td>\n",
       "      <td>2020-06-10</td>\n",
       "      <td>Fortín Zenteno</td>\n",
       "      <td>POINT (-59.98333 -23.16667)</td>\n",
       "    </tr>\n",
       "    <tr>\n",
       "      <th>4</th>\n",
       "      <td>3436532</td>\n",
       "      <td>zeballos-cue</td>\n",
       "      <td>Zeballos-Cue</td>\n",
       "      <td>zeballos-cue,zeballos-cue,zeballos-cue,zeballo...</td>\n",
       "      <td>-25.23019</td>\n",
       "      <td>-57.57118</td>\n",
       "      <td>P</td>\n",
       "      <td>PPLX</td>\n",
       "      <td>PY</td>\n",
       "      <td>NaN</td>\n",
       "      <td>...</td>\n",
       "      <td>0.0</td>\n",
       "      <td>NaN</td>\n",
       "      <td>NaN</td>\n",
       "      <td>0</td>\n",
       "      <td>NaN</td>\n",
       "      <td>78</td>\n",
       "      <td>America/Asuncion</td>\n",
       "      <td>2018-04-09</td>\n",
       "      <td>Zeballos-Cué</td>\n",
       "      <td>POINT (-57.57118 -25.23019)</td>\n",
       "    </tr>\n",
       "    <tr>\n",
       "      <th>...</th>\n",
       "      <td>...</td>\n",
       "      <td>...</td>\n",
       "      <td>...</td>\n",
       "      <td>...</td>\n",
       "      <td>...</td>\n",
       "      <td>...</td>\n",
       "      <td>...</td>\n",
       "      <td>...</td>\n",
       "      <td>...</td>\n",
       "      <td>...</td>\n",
       "      <td>...</td>\n",
       "      <td>...</td>\n",
       "      <td>...</td>\n",
       "      <td>...</td>\n",
       "      <td>...</td>\n",
       "      <td>...</td>\n",
       "      <td>...</td>\n",
       "      <td>...</td>\n",
       "      <td>...</td>\n",
       "      <td>...</td>\n",
       "      <td>...</td>\n",
       "    </tr>\n",
       "    <tr>\n",
       "      <th>18502</th>\n",
       "      <td>12174563</td>\n",
       "      <td>kokue guazu san antonio</td>\n",
       "      <td>Kokue Guazu San Antonio</td>\n",
       "      <td>kokue guasu san antonio,kokue guazu san antoni...</td>\n",
       "      <td>-25.32743</td>\n",
       "      <td>-57.39412</td>\n",
       "      <td>P</td>\n",
       "      <td>PPL</td>\n",
       "      <td>PY</td>\n",
       "      <td>NaN</td>\n",
       "      <td>...</td>\n",
       "      <td>NaN</td>\n",
       "      <td>NaN</td>\n",
       "      <td>NaN</td>\n",
       "      <td>0</td>\n",
       "      <td>NaN</td>\n",
       "      <td>154</td>\n",
       "      <td>America/Asuncion</td>\n",
       "      <td>2020-07-13</td>\n",
       "      <td>Kokue Guazú San Antonio</td>\n",
       "      <td>POINT (-57.39412 -25.32743)</td>\n",
       "    </tr>\n",
       "    <tr>\n",
       "      <th>18503</th>\n",
       "      <td>12174826</td>\n",
       "      <td>parques del yacht</td>\n",
       "      <td>Parques del Yacht</td>\n",
       "      <td>parques del yacht</td>\n",
       "      <td>-25.36612</td>\n",
       "      <td>-57.63104</td>\n",
       "      <td>P</td>\n",
       "      <td>PPLX</td>\n",
       "      <td>PY</td>\n",
       "      <td>NaN</td>\n",
       "      <td>...</td>\n",
       "      <td>NaN</td>\n",
       "      <td>NaN</td>\n",
       "      <td>NaN</td>\n",
       "      <td>0</td>\n",
       "      <td>NaN</td>\n",
       "      <td>96</td>\n",
       "      <td>America/Asuncion</td>\n",
       "      <td>2020-07-13</td>\n",
       "      <td>Parques del Yacht</td>\n",
       "      <td>POINT (-57.63104 -25.36612)</td>\n",
       "    </tr>\n",
       "    <tr>\n",
       "      <th>18504</th>\n",
       "      <td>12174827</td>\n",
       "      <td>san juan</td>\n",
       "      <td>San Juan</td>\n",
       "      <td>san juan</td>\n",
       "      <td>-25.36281</td>\n",
       "      <td>-57.59567</td>\n",
       "      <td>P</td>\n",
       "      <td>PPLX</td>\n",
       "      <td>PY</td>\n",
       "      <td>NaN</td>\n",
       "      <td>...</td>\n",
       "      <td>NaN</td>\n",
       "      <td>NaN</td>\n",
       "      <td>NaN</td>\n",
       "      <td>0</td>\n",
       "      <td>NaN</td>\n",
       "      <td>120</td>\n",
       "      <td>America/Asuncion</td>\n",
       "      <td>2020-07-13</td>\n",
       "      <td>San Juan</td>\n",
       "      <td>POINT (-57.59567 -25.36281)</td>\n",
       "    </tr>\n",
       "    <tr>\n",
       "      <th>18505</th>\n",
       "      <td>12174828</td>\n",
       "      <td>isla san francisco</td>\n",
       "      <td>Isla San Francisco</td>\n",
       "      <td>isla san francisco</td>\n",
       "      <td>-25.13408</td>\n",
       "      <td>-57.52246</td>\n",
       "      <td>P</td>\n",
       "      <td>PPLX</td>\n",
       "      <td>PY</td>\n",
       "      <td>NaN</td>\n",
       "      <td>...</td>\n",
       "      <td>NaN</td>\n",
       "      <td>NaN</td>\n",
       "      <td>NaN</td>\n",
       "      <td>0</td>\n",
       "      <td>NaN</td>\n",
       "      <td>54</td>\n",
       "      <td>America/Asuncion</td>\n",
       "      <td>2020-07-13</td>\n",
       "      <td>Isla San Francisco</td>\n",
       "      <td>POINT (-57.52246 -25.13408)</td>\n",
       "    </tr>\n",
       "    <tr>\n",
       "      <th>18506</th>\n",
       "      <td>12195603</td>\n",
       "      <td>puerto fenix</td>\n",
       "      <td>Puerto Fenix</td>\n",
       "      <td>NaN</td>\n",
       "      <td>-25.22443</td>\n",
       "      <td>-57.56682</td>\n",
       "      <td>L</td>\n",
       "      <td>PRT</td>\n",
       "      <td>PY</td>\n",
       "      <td>NaN</td>\n",
       "      <td>...</td>\n",
       "      <td>1110.0</td>\n",
       "      <td>11101020.0</td>\n",
       "      <td>NaN</td>\n",
       "      <td>0</td>\n",
       "      <td>NaN</td>\n",
       "      <td>48</td>\n",
       "      <td>America/Asuncion</td>\n",
       "      <td>2020-10-25</td>\n",
       "      <td>Puerto Fénix</td>\n",
       "      <td>POINT (-57.56682 -25.22443)</td>\n",
       "    </tr>\n",
       "  </tbody>\n",
       "</table>\n",
       "<p>18507 rows × 21 columns</p>\n",
       "</div>"
      ],
      "text/plain": [
       "       geonameid                     name                asciiname  \\\n",
       "0        3434138        isla santa isabel        Isla Santa Isabel   \n",
       "1        3436529              24 de julio              24 De Julio   \n",
       "2        3436530             tres de mayo             Tres de Mayo   \n",
       "3        3436531           fortin zenteno           Fortin Zenteno   \n",
       "4        3436532             zeballos-cue             Zeballos-Cue   \n",
       "...          ...                      ...                      ...   \n",
       "18502   12174563  kokue guazu san antonio  Kokue Guazu San Antonio   \n",
       "18503   12174826        parques del yacht        Parques del Yacht   \n",
       "18504   12174827                 san juan                 San Juan   \n",
       "18505   12174828       isla san francisco       Isla San Francisco   \n",
       "18506   12195603             puerto fenix             Puerto Fenix   \n",
       "\n",
       "                                          alternatenames  latitude  longitude  \\\n",
       "0      isla entre rios,isla entre rios,isla santa isabel -27.42043  -57.49094   \n",
       "1                                                    NaN -25.08333  -57.30000   \n",
       "2                                 3 de mayo,tres de mayo -26.48134  -56.09592   \n",
       "3      aliguata,alihuata,fortin zenteno,fortin zenten... -23.16667  -59.98333   \n",
       "4      zeballos-cue,zeballos-cue,zeballos-cue,zeballo... -25.23019  -57.57118   \n",
       "...                                                  ...       ...        ...   \n",
       "18502  kokue guasu san antonio,kokue guazu san antoni... -25.32743  -57.39412   \n",
       "18503                                  parques del yacht -25.36612  -57.63104   \n",
       "18504                                           san juan -25.36281  -57.59567   \n",
       "18505                                 isla san francisco -25.13408  -57.52246   \n",
       "18506                                                NaN -25.22443  -57.56682   \n",
       "\n",
       "      feature class feature code country code  cc2  ...  admin2 code  \\\n",
       "0                 T          ISL           PY  NaN  ...          NaN   \n",
       "1                 P          PPL           PY  NaN  ...        306.0   \n",
       "2                 P          PPL           PY  NaN  ...        611.0   \n",
       "3                 S           FT           PY   PY  ...       1507.0   \n",
       "4                 P         PPLX           PY  NaN  ...          0.0   \n",
       "...             ...          ...          ...  ...  ...          ...   \n",
       "18502             P          PPL           PY  NaN  ...          NaN   \n",
       "18503             P         PPLX           PY  NaN  ...          NaN   \n",
       "18504             P         PPLX           PY  NaN  ...          NaN   \n",
       "18505             P         PPLX           PY  NaN  ...          NaN   \n",
       "18506             L          PRT           PY  NaN  ...       1110.0   \n",
       "\n",
       "       admin3 code  admin4 code  population  elevation  dem          timezone  \\\n",
       "0              NaN          NaN           0        NaN   58  America/Asuncion   \n",
       "1              NaN          NaN           0        NaN   71  America/Asuncion   \n",
       "2              NaN          NaN           0        NaN  158  America/Asuncion   \n",
       "3              NaN          NaN           0        NaN  133  America/Asuncion   \n",
       "4              NaN          NaN           0        NaN   78  America/Asuncion   \n",
       "...            ...          ...         ...        ...  ...               ...   \n",
       "18502          NaN          NaN           0        NaN  154  America/Asuncion   \n",
       "18503          NaN          NaN           0        NaN   96  America/Asuncion   \n",
       "18504          NaN          NaN           0        NaN  120  America/Asuncion   \n",
       "18505          NaN          NaN           0        NaN   54  America/Asuncion   \n",
       "18506   11101020.0          NaN           0        NaN   48  America/Asuncion   \n",
       "\n",
       "      modification                 orig_name                     geometry  \n",
       "0        2017-10-04        Isla Santa Isabel  POINT (-57.49094 -27.42043)  \n",
       "1        2018-04-09              24 De Julio  POINT (-57.30000 -25.08333)  \n",
       "2        2020-06-10             Tres de Mayo  POINT (-56.09592 -26.48134)  \n",
       "3        2020-06-10           Fortín Zenteno  POINT (-59.98333 -23.16667)  \n",
       "4        2018-04-09             Zeballos-Cué  POINT (-57.57118 -25.23019)  \n",
       "...             ...                      ...                          ...  \n",
       "18502    2020-07-13  Kokue Guazú San Antonio  POINT (-57.39412 -25.32743)  \n",
       "18503    2020-07-13        Parques del Yacht  POINT (-57.63104 -25.36612)  \n",
       "18504    2020-07-13                 San Juan  POINT (-57.59567 -25.36281)  \n",
       "18505    2020-07-13       Isla San Francisco  POINT (-57.52246 -25.13408)  \n",
       "18506    2020-10-25             Puerto Fénix  POINT (-57.56682 -25.22443)  \n",
       "\n",
       "[18507 rows x 21 columns]"
      ]
     },
     "execution_count": 14,
     "metadata": {},
     "output_type": "execute_result"
    }
   ],
   "source": [
    "places_df = load_geonames_data(file_paths['geonames'][COUNTRY])\n",
    "places_df"
   ]
  },
  {
   "cell_type": "code",
   "execution_count": 15,
   "metadata": {},
   "outputs": [
    {
     "data": {
      "text/html": [
       "<div>\n",
       "<style scoped>\n",
       "    .dataframe tbody tr th:only-of-type {\n",
       "        vertical-align: middle;\n",
       "    }\n",
       "\n",
       "    .dataframe tbody tr th {\n",
       "        vertical-align: top;\n",
       "    }\n",
       "\n",
       "    .dataframe thead th {\n",
       "        text-align: right;\n",
       "    }\n",
       "</style>\n",
       "<table border=\"1\" class=\"dataframe\">\n",
       "  <thead>\n",
       "    <tr style=\"text-align: right;\">\n",
       "      <th></th>\n",
       "      <th>feature class</th>\n",
       "      <th>counts</th>\n",
       "    </tr>\n",
       "  </thead>\n",
       "  <tbody>\n",
       "    <tr>\n",
       "      <th>0</th>\n",
       "      <td>A</td>\n",
       "      <td>8501</td>\n",
       "    </tr>\n",
       "    <tr>\n",
       "      <th>1</th>\n",
       "      <td>H</td>\n",
       "      <td>1588</td>\n",
       "    </tr>\n",
       "    <tr>\n",
       "      <th>2</th>\n",
       "      <td>L</td>\n",
       "      <td>356</td>\n",
       "    </tr>\n",
       "    <tr>\n",
       "      <th>3</th>\n",
       "      <td>P</td>\n",
       "      <td>6810</td>\n",
       "    </tr>\n",
       "    <tr>\n",
       "      <th>4</th>\n",
       "      <td>R</td>\n",
       "      <td>2</td>\n",
       "    </tr>\n",
       "    <tr>\n",
       "      <th>5</th>\n",
       "      <td>S</td>\n",
       "      <td>692</td>\n",
       "    </tr>\n",
       "    <tr>\n",
       "      <th>6</th>\n",
       "      <td>T</td>\n",
       "      <td>532</td>\n",
       "    </tr>\n",
       "    <tr>\n",
       "      <th>7</th>\n",
       "      <td>V</td>\n",
       "      <td>26</td>\n",
       "    </tr>\n",
       "  </tbody>\n",
       "</table>\n",
       "</div>"
      ],
      "text/plain": [
       "  feature class  counts\n",
       "0             A    8501\n",
       "1             H    1588\n",
       "2             L     356\n",
       "3             P    6810\n",
       "4             R       2\n",
       "5             S     692\n",
       "6             T     532\n",
       "7             V      26"
      ]
     },
     "execution_count": 15,
     "metadata": {},
     "output_type": "execute_result"
    }
   ],
   "source": [
    "places_df.groupby(['feature class']).size().reset_index(name='counts')"
   ]
  },
  {
   "cell_type": "markdown",
   "metadata": {},
   "source": [
    "## Data prep"
   ]
  },
  {
   "cell_type": "code",
   "execution_count": 16,
   "metadata": {
    "scrolled": true,
    "tags": []
   },
   "outputs": [
    {
     "name": "stdout",
     "output_type": "stream",
     "text": [
      "% of WB data places found in Geo Names: 36.30\n"
     ]
    }
   ],
   "source": [
    "places = np.array(places_df.name.to_list())\n",
    "places_set = set(places)\n",
    "\n",
    "wb_places = set(df.endpoint_1.to_list() + df.endpoint_2.to_list())\n",
    "p = sum([p in places_set for p in wb_places]) / len(wb_places)\n",
    "print(f'% of WB data places found in Geo Names: {100 * p:.2f}')\n"
   ]
  },
  {
   "cell_type": "code",
   "execution_count": 17,
   "metadata": {},
   "outputs": [
    {
     "name": "stderr",
     "output_type": "stream",
     "text": [
      "100%|██████████| 11209/11209 [00:16<00:00, 688.42it/s]\n"
     ]
    }
   ],
   "source": [
    "places_to_geoms = defaultdict(list)\n",
    "with tqdm(places_set) as bar:\n",
    "    for p in bar:\n",
    "        g = list(places_df.loc[places == p, ['longitude', 'latitude']].itertuples(index=False, name=None))\n",
    "        g = [Point(long, lat) for long, lat in g]\n",
    "        places_to_geoms[p] += g\n"
   ]
  },
  {
   "cell_type": "code",
   "execution_count": 18,
   "metadata": {},
   "outputs": [
    {
     "name": "stderr",
     "output_type": "stream",
     "text": [
      "100%|██████████| 11209/11209 [00:03<00:00, 3477.55it/s]\n"
     ]
    }
   ],
   "source": [
    "places_to_alts = defaultdict(set)\n",
    "\n",
    "with tqdm(places_set) as bar:\n",
    "    for p in bar:\n",
    "        alts = places_df.loc[places == p, 'alternatenames'].to_list()\n",
    "        alts = [v for v in alts if isinstance(v, str)]\n",
    "        if len(alts) > 0:\n",
    "            alts = set.union(*[set(v.split(',')) for v in alts])\n",
    "            places_to_alts[p] = places_to_alts[p].union(alts)"
   ]
  },
  {
   "cell_type": "code",
   "execution_count": 19,
   "metadata": {
    "scrolled": true,
    "tags": []
   },
   "outputs": [
    {
     "name": "stderr",
     "output_type": "stream",
     "text": [
      "100%|██████████| 11209/11209 [00:00<00:00, 1016012.65it/s]\n"
     ]
    }
   ],
   "source": [
    "with tqdm(list(places_to_geoms.items())) as bar:\n",
    "    for p, g in bar:\n",
    "        alts = places_to_alts[p]\n",
    "        for alt in alts:\n",
    "            places_to_geoms[alt] += g"
   ]
  },
  {
   "cell_type": "markdown",
   "metadata": {},
   "source": [
    "## Load road network via OSMnx"
   ]
  },
  {
   "cell_type": "code",
   "execution_count": 20,
   "metadata": {
    "tags": []
   },
   "outputs": [],
   "source": [
    "def download_graph(country: str, save: bool = True) -> nx.Graph:\n",
    "    highway_types_to_inlcude = '|'.join([\n",
    "        'primary',\n",
    "        'secondary',\n",
    "        'tertiary',\n",
    "        'trunk',\n",
    "        'motorway',\n",
    "        'unclassified',\n",
    "        'primary_link',\n",
    "        'secondary_link',\n",
    "        'tertiary_link',\n",
    "        'trunk_link',\n",
    "        'motorway_link'\n",
    "    ])\n",
    "    custom_filter = f'[\"highway\"~\"{highway_types_to_inlcude}\"]'\n",
    "\n",
    "    G = ox.graph_from_place(\n",
    "        country,\n",
    "        network_type='drive',\n",
    "        custom_filter=custom_filter,\n",
    "        simplify=False)\n",
    "    gc.collect()\n",
    "    \n",
    "    if save:\n",
    "        ox.save_graphml(G, file_paths['graph'][COUNTRY])\n",
    "        gc.collect()\n",
    "    \n",
    "    return G"
   ]
  },
  {
   "cell_type": "code",
   "execution_count": 21,
   "metadata": {},
   "outputs": [
    {
     "name": "stdout",
     "output_type": "stream",
     "text": [
      "Loading graph from file ...\n"
     ]
    },
    {
     "data": {
      "text/plain": [
       "0"
      ]
     },
     "execution_count": 21,
     "metadata": {},
     "output_type": "execute_result"
    }
   ],
   "source": [
    "if os.path.exists(file_paths['graph'][COUNTRY]):\n",
    "    print('Loading graph from file ...')\n",
    "    G = ox.load_graphml(file_paths['graph'][COUNTRY])\n",
    "else:\n",
    "    print('Downloading graph ...')\n",
    "    G = download_graph(COUNTRY)\n",
    "gc.collect()\n",
    "\n",
    "G = nx.DiGraph(G)\n",
    "G = G.to_undirected(reciprocal=False, as_view=True)\n",
    "\n",
    "gc.collect()"
   ]
  },
  {
   "cell_type": "markdown",
   "metadata": {},
   "source": [
    "### Fuzzy matching demo"
   ]
  },
  {
   "cell_type": "code",
   "execution_count": 22,
   "metadata": {
    "scrolled": true,
    "tags": []
   },
   "outputs": [
    {
     "name": "stdout",
     "output_type": "stream",
     "text": [
      "query:  jesu\n",
      "[('arrozal jesus maria', 90),\n",
      " ('sagrado corazon de jesus', 90),\n",
      " ('buen jesus', 90),\n",
      " ('jesus maria', 90),\n",
      " ('asentamiento nino jesus', 90)]\n",
      "----------------------------\n",
      "query: monte lindo\n",
      "[('monte lindo', 100),\n",
      " ('zona monte lindo', 95),\n",
      " ('tapera monte lindo', 90),\n",
      " ('puesto monte lindo', 90),\n",
      " ('riacho monte lindo', 90)]\n",
      "----------------------------\n",
      "query: san joaqui\n",
      "[('san joaquin', 95),\n",
      " ('serrania de san joaquin', 90),\n",
      " ('montes de san joaquin', 90),\n",
      " ('cerro san joaquin', 90),\n",
      " ('estancia san joaquin', 90)]\n",
      "----------------------------\n",
      "query: nemb\n",
      "[('compania nemby', 90),\n",
      " ('cerro nemby', 90),\n",
      " ('potrero nemboty', 90),\n",
      " ('arroyo nemby', 90),\n",
      " ('com indig nembiara - casilla 2', 90)]\n",
      "----------------------------\n",
      "query: edelira\n",
      "[('edelira', 100),\n",
      " ('edelira 72', 95),\n",
      " ('edelira 60', 95),\n",
      " ('edelira 49', 95),\n",
      " ('edelira 28', 95)]\n",
      "----------------------------\n",
      "query: aldana canad\n",
      "[('aldana canada', 96),\n",
      " ('asent. aldana canada', 90),\n",
      " ('asentamiento aldana canada', 90),\n",
      " ('ana', 90),\n",
      " ('aldama canada', 88)]\n",
      "----------------------------\n",
      "query: salto del guaira\n",
      "[('salto del guaira', 100),\n",
      " ('saltos del guaira', 97),\n",
      " ('parque salto del guaira', 95),\n",
      " ('salto del guaira kilometro 18', 90),\n",
      " ('salto del guaira kilometro 32', 90)]\n",
      "----------------------------\n",
      "query: caraguata\n",
      "[('caraguata', 100),\n",
      " ('caraguatay', 95),\n",
      " ('estero caraguatay-nu', 90),\n",
      " ('cerro caraguata', 90),\n",
      " ('arroyo caraguata', 90)]\n",
      "----------------------------\n",
      "query: cedrale\n",
      "[('cedrales', 93),\n",
      " ('los cedrales', 90),\n",
      " ('colonia los cedrales', 90),\n",
      " ('catedral', 80),\n",
      " ('central', 71)]\n",
      "----------------------------\n",
      "query: reducto\n",
      "[('reducto', 100),\n",
      " ('areco', 67),\n",
      " ('recta', 67),\n",
      " ('cerro cristo redentor', 64),\n",
      " ('receptor kue', 64)]\n",
      "----------------------------\n"
     ]
    }
   ],
   "source": [
    "for _ in range(10):\n",
    "    name = random.choice(list(wb_places))\n",
    "    fuzzy_matches = process.extract(\n",
    "            name, places_set, scorer=fuzz.WRatio, limit=5)\n",
    "    print(f'query: {name}')\n",
    "    print(pformat(fuzzy_matches))\n",
    "    print('----------------------------')"
   ]
  },
  {
   "cell_type": "code",
   "execution_count": 23,
   "metadata": {},
   "outputs": [],
   "source": [
    "def straight_line_distance(p1: Point, p2: Point) -> float:\n",
    "    line_string = LineString((p1, p2))\n",
    "    dist = GEOD.geometry_length(line_string)\n",
    "    return dist\n",
    "\n",
    "def heuristic(node1, node2):\n",
    "    p1, p2 = G.nodes[node1], G.nodes[node2]\n",
    "    p1, p2 = Point(p1['x'], p1['y']), Point(p2['x'], p2['y'])\n",
    "    return straight_line_distance(p1, p2)\n",
    "\n",
    "def get_route_info(G: nx.Graph, \n",
    "                   p1: Point, \n",
    "                   p2: Point, \n",
    "                   km: bool = True) -> dict:\n",
    "    start = p1.coords[0]\n",
    "    end = p2.coords[0]\n",
    "    start_node = ox.distance.nearest_nodes(G, *start)\n",
    "    end_node = ox.distance.nearest_nodes(G, *end)\n",
    "\n",
    "    try:\n",
    "        route = nx.shortest_paths.astar_path(G, start_node, end_node, weight='length', heuristic=heuristic)\n",
    "#         route_gen = nx.shortest_simple_paths(\n",
    "#             G, start_node, end_node, weight='length')\n",
    "#         route = next(route_gen)\n",
    "#         del route_gen\n",
    "        route_length = path_weight(G, route, weight='length')\n",
    "        gc.collect()\n",
    "    except nx.NetworkXNoPath:\n",
    "        route = None\n",
    "        route_length = np.inf\n",
    "    out = {\n",
    "        'start_node': start_node,\n",
    "        'end_node': end_node,\n",
    "        'route': route,\n",
    "        'length': route_length / 1e3 if km else route_length\n",
    "    }\n",
    "    return out\n",
    "\n",
    "def candidate_endpoints(p1_candidates: Iterable[Point], \n",
    "                        p2_candidates: Iterable[Point], \n",
    "                        wb_length: float, \n",
    "                        tol: float = 10) -> Tuple[List[Point], List[Point]]:\n",
    "    pairs = list(product(p1_candidates, p2_candidates))\n",
    "    pairs = [p for p in pairs if p[0] != p[1]]\n",
    "    straight_dists = [straight_line_distance(p1, p2) for p1, p2 in pairs]\n",
    "    straight_dists = np.array(straight_dists) / 1e3\n",
    "    diffs = np.abs(straight_dists - wb_length)\n",
    "    filtered_pairs = [p for p, d in zip(pairs, diffs) if d <= tol]\n",
    "    filtered_diffs = diffs[diffs <= tol]\n",
    "    return filtered_pairs, filtered_diffs"
   ]
  },
  {
   "cell_type": "code",
   "execution_count": 24,
   "metadata": {
    "tags": []
   },
   "outputs": [],
   "source": [
    "@lru_cache(maxsize=len(wb_places))\n",
    "def lookup_place(name: str, map: dict = places_to_geoms, fuzzy_limit: int = 3, scorer=None) -> List[Point]:\n",
    "    if scorer is not None:\n",
    "        fuzzy_matches = process.extract(\n",
    "            name, map.keys(), scorer=scorer, limit=fuzzy_limit)\n",
    "    else:\n",
    "        fuzzy_matches_w = process.extract(\n",
    "            name, map.keys(), scorer=fuzz.WRatio, limit=fuzzy_limit)\n",
    "        fuzzy_matches_q = process.extract(\n",
    "            name, map.keys(), scorer=fuzz.QRatio, limit=fuzzy_limit)\n",
    "        fuzzy_matches = fuzzy_matches_w + fuzzy_matches_q\n",
    "    fuzzy_matches = set(k for k, _ in fuzzy_matches)\n",
    "    points = [map[k] for k in fuzzy_matches]\n",
    "    name_mapping = {}\n",
    "    for k, ps in zip(fuzzy_matches, points):\n",
    "        for p in ps:\n",
    "            name_mapping[p.coords[0]] = k\n",
    "    points = [Point(*p) for p in name_mapping.keys()]\n",
    "    return points, name_mapping"
   ]
  },
  {
   "cell_type": "markdown",
   "metadata": {},
   "source": [
    "## Match routes"
   ]
  },
  {
   "cell_type": "code",
   "execution_count": 37,
   "metadata": {
    "tags": []
   },
   "outputs": [],
   "source": [
    "@lru_cache(maxsize=len(wb_places))\n",
    "def match(p1_name, p2_name, wb_length, debug=False):\n",
    "    p1_name, p2_name = p1_name.strip().lower(), p2_name.strip().lower()\n",
    "    info = {\n",
    "        'p1_name': p1_name,\n",
    "        'p2_name': p2_name,\n",
    "        'wb_length': wb_length,\n",
    "        'route': None\n",
    "    }\n",
    "    p1_candidates, p1_candidate_names = lookup_place(p1_name)\n",
    "    p2_candidates, p2_candidate_names = lookup_place(p2_name)\n",
    "    if debug:\n",
    "        info['p1_candidates'] = p1_candidates\n",
    "        info['p1_candidate_names'] = p1_candidate_names\n",
    "        info['p2_candidates'] = p2_candidates\n",
    "        info['p2_candidate_names'] = p2_candidate_names\n",
    "\n",
    "    candidate_pairs, diffs = candidate_endpoints(p1_candidates, p2_candidates, wb_length, tol=10)\n",
    "    if debug:\n",
    "        info['candidate_pairs'] = candidate_pairs\n",
    "        info['candidate_pair_diffs'] = diffs\n",
    "\n",
    "    if len(candidate_pairs) == 0:\n",
    "        print(f'Skipping {p1_name} -- {p2_name}, No candidate pairs. wb_len={wb_length}, diffs={diffs.tolist()}')\n",
    "        return info\n",
    "\n",
    "    candidate_routes = [get_route_info(G, p1, p2) for p1, p2 in candidate_pairs]\n",
    "    route_lengths = np.array([r['length'] for r in candidate_routes])\n",
    "    best_route_idx = np.argmin(np.abs(route_lengths - wb_length))\n",
    "    print(wb_length, route_lengths)\n",
    "    route_info = candidate_routes[best_route_idx]\n",
    "    p1, p2 = candidate_pairs[best_route_idx]\n",
    "    info.update(route_info)\n",
    "    info['p1'] = p1\n",
    "    info['p2'] = p2\n",
    "    info['straight_line_dist'] = straight_line_distance(p1, p2) / 1e3\n",
    "    info['diff'] = wb_length - route_info['length']\n",
    "    info['abs_diff'] = abs(info['diff'])\n",
    "    info['rel_error'] = info['abs_diff'] / wb_length\n",
    "    \n",
    "    if debug:\n",
    "        info['candidate_routes'] = candidate_routes\n",
    "        info['candidate_route_lengths'] = route_lengths\n",
    "        info['best_route_idx'] = best_route_idx\n",
    "    \n",
    "    return info"
   ]
  },
  {
   "cell_type": "code",
   "execution_count": 41,
   "metadata": {
    "tags": []
   },
   "outputs": [],
   "source": [
    "def debug(p1, p2):\n",
    "    p1, p2 = p1.strip().lower(), p2.strip().lower()\n",
    "    wb_length = df[(df.endpoint_1 == p1) & (df.endpoint_2 == p2)].length.item()\n",
    "    info = match(p1, p2, wb_length, debug=True)\n",
    "    if info.get('route', None) is None:\n",
    "        print(pformat(info))\n",
    "        return\n",
    "\n",
    "    title = f'{p1} --> {p2} ({wb_length:.2f} KM)\\n'\n",
    "    \n",
    "    p1_pts = np.array([p.coords[0] for p in info['p1_candidates']])\n",
    "    p2_pts = np.array([p.coords[0] for p in info['p2_candidates']])\n",
    "    plt.scatter(*p1_pts.T, ec='red', alpha=0.5, fc='none')\n",
    "    plt.scatter(*p2_pts.T, ec='yellow', alpha=0.5, fc='none')\n",
    "    for p, v in info['p1_candidate_names'].items():\n",
    "        off = np.random.randint(-10, 10)\n",
    "        plt.annotate(v, xy=(p[0], p[1]), xytext=(off, off), textcoords='offset points', alpha=1, color='red', fontsize=8)\n",
    "    for p, v in info['p2_candidate_names'].items():\n",
    "        off = np.random.randint(-10, 10)\n",
    "        plt.annotate(v, xy=(p[0], p[1]), xytext=(off, off), textcoords='offset points', alpha=1, color='yellow', fontsize=8)\n",
    "\n",
    "    for p1, p2 in info['candidate_pairs']:\n",
    "        d = straight_line_distance(p1, p2) / 1e3\n",
    "        p1 = p1.coords[0]\n",
    "        p2 = p2.coords[0]\n",
    "        x, y = np.array([p1, p2]).T\n",
    "        plt.plot(x, y, color='gray')\n",
    "    #     plt.annotate(f'{d:.2f}', xy=(x.mean(), y.mean()), xytext=(-2, 2), textcoords='offset points', alpha=1)\n",
    "        plt.scatter(x[0], y[0], color='red', zorder=100)\n",
    "        plt.scatter(x[1], y[1], color='yellow', zorder=100)\n",
    "    for r in info['candidate_routes']:\n",
    "        ps = [G.nodes[node] for node in r['route']]\n",
    "        x = np.array([p['x'] for p in ps])\n",
    "        y = np.array([p['y'] for p in ps])\n",
    "        plt.plot(x, y, color='green', linestyle='--')\n",
    "        plt.annotate(f'{r[\"length\"]:.2f}', xy=(x.mean(), y.mean()), xytext=(-2, 2), textcoords='offset points', alpha=1)\n",
    "    plt.title(f'{title}\\nAll candidate points ({len(info[\"p1_candidates\"])}, {len(info[\"p2_candidates\"])})')\n",
    "    plt.xlabel('longitude (°)')\n",
    "    plt.ylabel('latitude (°)')\n",
    "    plt.gca().spines['top'].set_visible(False)\n",
    "    plt.gca().spines['right'].set_visible(False)\n",
    "    plt.show()\n",
    "    \n",
    "    ds = []\n",
    "    for p1, p2 in info['candidate_pairs']:\n",
    "        d = straight_line_distance(p1, p2) / 1e3\n",
    "        ds.append(d)\n",
    "        p1 = p1.coords[0]\n",
    "        p2 = p2.coords[0]\n",
    "        x, y = np.array([p1, p2]).T\n",
    "        plt.plot(x, y, color='gray')\n",
    "        plt.annotate(f'{d:.2f}', xy=(x.mean(), y.mean()), xytext=(-2, 2), textcoords='offset points', alpha=.8)\n",
    "        plt.scatter(x[0], y[0], color='red', zorder=100)\n",
    "        plt.scatter(x[1], y[1], color='yellow', zorder=100)\n",
    "        off = np.random.randint(-10, 10)\n",
    "        plt.annotate(\n",
    "            info['p1_candidate_names'][x[0], y[0]], \n",
    "            xy=(x[0], y[0]), xytext=(off, off), textcoords='offset points', \n",
    "            alpha=1, color='red', fontsize=10)\n",
    "        off = np.random.randint(-10, 10)\n",
    "        plt.annotate(\n",
    "            info['p2_candidate_names'][x[1], y[1]], \n",
    "            xy=(x[1], y[1]), xytext=(off, off), textcoords='offset points', \n",
    "            alpha=1, color='yellow', fontsize=10)\n",
    "    for r in info['candidate_routes']:\n",
    "        ps = [G.nodes[node] for node in r['route']]\n",
    "        x = np.array([p['x'] for p in ps])\n",
    "        y = np.array([p['y'] for p in ps])\n",
    "        plt.plot(x, y, color='green', linestyle='--')\n",
    "        plt.annotate(f'{r[\"length\"]:.2f}', xy=(x.mean(), y.mean()), xytext=(-2, 2), textcoords='offset points', alpha=1)\n",
    "    plt.title(f'{title}\\nFiltered candidate pairs ({len(info[\"candidate_pairs\"])})')\n",
    "    plt.xlabel('longitude (°)')\n",
    "    plt.ylabel('latitude (°)')\n",
    "    print('straight line distances', ds)\n",
    "    plt.gca().spines['top'].set_visible(False)\n",
    "    plt.gca().spines['right'].set_visible(False)\n",
    "    plt.show()\n",
    "    \n",
    "    print('candidate route lengths', info['candidate_route_lengths'])\n",
    "    for p1, p2 in info['candidate_pairs']:\n",
    "        d = straight_line_distance(p1, p2) / 1e3\n",
    "        p1 = p1.coords[0]\n",
    "        p2 = p2.coords[0]\n",
    "        x, y = np.array([p1, p2]).T\n",
    "        plt.scatter(x[0], y[0], color='red', zorder=100)\n",
    "        plt.scatter(x[1], y[1], color='yellow', zorder=100)\n",
    "        off = np.random.randint(-20, 20)\n",
    "        plt.annotate(\n",
    "            info['p1_candidate_names'][x[0], y[0]], \n",
    "            xy=(x[0], y[0]), xytext=(off, off), textcoords='offset points', \n",
    "            alpha=1, color='red', fontsize=12)\n",
    "        off = np.random.randint(-20, 20)\n",
    "        plt.annotate(\n",
    "            info['p2_candidate_names'][x[1], y[1]], \n",
    "            xy=(x[1], y[1]), xytext=(off, off), textcoords='offset points', \n",
    "            alpha=1, color='yellow', fontsize=11)\n",
    "    for i, r in enumerate(info['candidate_routes']):\n",
    "        ps = [G.nodes[node] for node in r['route']]\n",
    "        x = np.array([p['x'] for p in ps])\n",
    "        y = np.array([p['y'] for p in ps])\n",
    "        if i == info['best_route_idx']:\n",
    "            plt.plot(x, y, color='green', linewidth=3)\n",
    "            plt.annotate(f'{r[\"length\"]:.2f}', xy=(x.mean(), y.mean()), xytext=(-2, 2), textcoords='offset points', alpha=1)\n",
    "        else:\n",
    "            plt.plot(x, y, color='green', linestyle='--', alpha=.75)\n",
    "            plt.annotate(f'{r[\"length\"]:.2f}', xy=(x.mean(), y.mean()), xytext=(-2, 2), textcoords='offset points', alpha=.75)\n",
    "    plt.title(f'{title}\\nMatched route')\n",
    "    plt.xlabel('longitude (°)')\n",
    "    plt.ylabel('latitude (°)')\n",
    "    plt.gca().spines['top'].set_visible(False)\n",
    "    plt.gca().spines['right'].set_visible(False)\n",
    "#     best_pair = info['candidate_pairs'][info['best_route_idx']]\n",
    "#     best_pair_x = np.array([best_pair[0].coords[0][0], best_pair[1].coords[0][0]])\n",
    "#     best_pair_y = np.array([best_pair[0].coords[0][1], best_pair[1].coords[0][1]])\n",
    "#     plt.xlim((min(best_pair_x) - .5, max(best_pair_x) + .5))\n",
    "#     plt.ylim((min(best_pair_y) - .5, max(best_pair_y) + .5))\n",
    "    plt.show()\n",
    "    \n",
    "    return info"
   ]
  },
  {
   "cell_type": "code",
   "execution_count": 42,
   "metadata": {
    "tags": []
   },
   "outputs": [
    {
     "data": {
      "image/png": "[encoded data removed]",
      "text/plain": [
       "<Figure size 640x480 with 1 Axes>"
      ]
     },
     "metadata": {},
     "output_type": "display_data"
    },
    {
     "name": "stdout",
     "output_type": "stream",
     "text": [
      "straight line distances [47.563785474113445, 39.17811423375884, 35.310479749367325]\n"
     ]
    },
    {
     "data": {
      "image/png": "[encoded data removed]",
      "text/plain": [
       "<Figure size 640x480 with 1 Axes>"
      ]
     },
     "metadata": {},
     "output_type": "display_data"
    },
    {
     "name": "stdout",
     "output_type": "stream",
     "text": [
      "candidate route lengths [61.823636 76.631141 42.702721]\n"
     ]
    },
    {
     "data": {
      "image/png": "[encoded data removed]",
      "text/plain": [
       "<Figure size 640x480 with 1 Axes>"
      ]
     },
     "metadata": {},
     "output_type": "display_data"
    }
   ],
   "source": [
    "# guatemala\n",
    "# p1, p2 = 'bifurcacion agua tibia', 'amatillo'\n",
    "# p1, p2 = 'zacapa', 'rio arriba'\n",
    "# p1, p2 = 'agua chiquita', 'tuila'\n",
    "# p1, p2 = 'secoyob', 'san luis'\n",
    "# paraguay\n",
    "# p1, p2 = 'CAACUPE', 'EUSEBIO AYALA'\n",
    "p1, p2 = 'CRUCE GUARANI', 'COLONIA PINDOTY'\n",
    "# p1, p2 = 'acceso sur', 'villeta'\n",
    "\n",
    "info = debug(p1, p2)"
   ]
  },
  {
   "cell_type": "code",
   "execution_count": 43,
   "metadata": {
    "scrolled": true,
    "tags": []
   },
   "outputs": [
    {
     "name": "stderr",
     "output_type": "stream",
     "text": [
      "  1%|          | 1/169 [00:01<03:19,  1.19s/it]"
     ]
    },
    {
     "name": "stdout",
     "output_type": "stream",
     "text": [
      "Skipping 4 mojones -- ytoror, No candidate pairs. wb_len=0.71211177, diffs=[]\n",
      "Skipping acceso sur -- villeta, No candidate pairs. wb_len=9.2907118, diffs=[]\n"
     ]
    },
    {
     "name": "stderr",
     "output_type": "stream",
     "text": [
      "  2%|▏         | 3/169 [00:18<09:39,  3.49s/it, start=alto vera, end=karona, diff=2.06, matches=1]"
     ]
    },
    {
     "name": "stdout",
     "output_type": "stream",
     "text": [
      "2.5115359 [14.606383  7.617536 10.023781 13.563936  0.455322]\n"
     ]
    },
    {
     "name": "stderr",
     "output_type": "stream",
     "text": [
      "  2%|▏         | 4/169 [00:40<24:07,  8.77s/it, start=alto vera, end=ynamb, diff=-3.08, matches=2]"
     ]
    },
    {
     "name": "stdout",
     "output_type": "stream",
     "text": [
      "10.67965 [ 3.236001 18.735493 20.268608 23.808763 14.82469  13.762351]\n"
     ]
    },
    {
     "name": "stderr",
     "output_type": "stream",
     "text": [
      "  3%|▎         | 5/169 [01:12<43:40, 15.98s/it, start=altos, end=atyr, diff=0.564, matches=3]     "
     ]
    },
    {
     "name": "stdout",
     "output_type": "stream",
     "text": [
      "9.3805113 [11.064711  8.816331 15.680498 10.11882  12.259599 25.236363 14.530137\n",
      " 12.281757 20.260223]\n"
     ]
    },
    {
     "name": "stderr",
     "output_type": "stream",
     "text": [
      "  4%|▎         | 6/169 [01:13<31:17, 11.52s/it, start=altos, end=atyr, diff=0.564, matches=3]"
     ]
    },
    {
     "name": "stdout",
     "output_type": "stream",
     "text": [
      "Skipping aregua -- estacion terren, No candidate pairs. wb_len=2.0371759, diffs=[]\n"
     ]
    },
    {
     "name": "stderr",
     "output_type": "stream",
     "text": [
      "  4%|▍         | 7/169 [01:35<39:17, 14.55s/it, start=aregua, end=isla vall, diff=0.522, matches=4]"
     ]
    },
    {
     "name": "stdout",
     "output_type": "stream",
     "text": [
      "4.3732381 [5.445167 5.025507 3.432053 3.851713 1.145159 1.564819]\n"
     ]
    },
    {
     "name": "stderr",
     "output_type": "stream",
     "text": [
      "  5%|▍         | 8/169 [02:07<53:21, 19.89s/it, start=aregua, end=patin, diff=0.133, matches=5]    "
     ]
    },
    {
     "name": "stdout",
     "output_type": "stream",
     "text": [
      "6.5556202 [15.223134 15.295164 14.248965  7.22744   6.422825  6.253271  8.632808\n",
      "  8.704838  7.658639]\n"
     ]
    },
    {
     "name": "stderr",
     "output_type": "stream",
     "text": [
      "  5%|▌         | 9/169 [06:45<4:19:28, 97.31s/it, start=arroyo san jose, end=bella vista nort, diff=-.612, matches=6]"
     ]
    },
    {
     "name": "stdout",
     "output_type": "stream",
     "text": [
      "30.643101 [32.795313 42.514629 32.795313 42.514629 41.584876 38.629881 31.254942\n",
      " 45.091268 45.170513 64.397159 42.332271 39.37148  35.638642 42.91753\n",
      " 27.060907 42.91753  41.319727 41.920485 58.418153 26.060877 25.273678\n",
      " 24.533718 23.746519 32.258421 32.101723 34.58434  34.663585 67.40861\n",
      " 68.009368 39.1441   40.839443 40.839443 77.587784 77.587784 44.536673\n",
      " 44.615918 32.351992 32.195294 34.677911 34.757156 85.019786 43.966037\n",
      " 75.248333 75.849091 46.983823 62.379625 37.421605 48.965964 33.109341\n",
      " 48.965964 43.34612  43.946878 60.444546 38.039871 38.640629 55.138297\n",
      " 52.272281 52.873039 69.370707 38.54482  45.312292 45.91305  55.776596\n",
      " 32.088405 31.931707 34.414324 34.493569 24.33689  23.549691 37.421605\n",
      " 63.492008 29.085203 29.085203 29.585499]\n"
     ]
    },
    {
     "name": "stderr",
     "output_type": "stream",
     "text": [
      "  6%|▌         | 10/169 [06:46<3:01:22, 68.44s/it, start=arroyo san jose, end=bella vista nort, diff=-.612, matches=6]"
     ]
    },
    {
     "name": "stdout",
     "output_type": "stream",
     "text": [
      "Skipping arroyo ypecuru -- ruta, No candidate pairs. wb_len=3.6359069, diffs=[]\n"
     ]
    },
    {
     "name": "stderr",
     "output_type": "stream",
     "text": [
      "  7%|▋         | 11/169 [06:47<2:06:57, 48.21s/it, start=arroyo san jose, end=bella vista nort, diff=-.612, matches=6]"
     ]
    },
    {
     "name": "stdout",
     "output_type": "stream",
     "text": [
      "Skipping arroyos y esteros -- 25 de diciembre, No candidate pairs. wb_len=23.2098392, diffs=[]\n"
     ]
    },
    {
     "name": "stderr",
     "output_type": "stream",
     "text": [
      "  7%|▋         | 12/169 [07:34<2:04:30, 47.58s/it, start=asuncion, end=san lorenzo, diff=-.29, matches=7]             "
     ]
    },
    {
     "name": "stdout",
     "output_type": "stream",
     "text": [
      "16.679355400000002 [15.251977 16.969449 24.933432 15.680684 15.968577 25.410859 15.088311\n",
      " 15.376204 24.818486 12.337767 12.717442 22.027354]\n"
     ]
    },
    {
     "name": "stderr",
     "output_type": "stream",
     "text": [
      "  8%|▊         | 13/169 [07:35<1:27:28, 33.65s/it, start=asuncion, end=san lorenzo, diff=-.29, matches=7]"
     ]
    },
    {
     "name": "stdout",
     "output_type": "stream",
     "text": [
      "Skipping ayolas -- acceso a anacu, No candidate pairs. wb_len=1.870713, diffs=[]\n"
     ]
    },
    {
     "name": "stderr",
     "output_type": "stream",
     "text": [
      "  8%|▊         | 14/169 [07:36<1:01:45, 23.91s/it, start=asuncion, end=san lorenzo, diff=-.29, matches=7]"
     ]
    },
    {
     "name": "stdout",
     "output_type": "stream",
     "text": [
      "Skipping belen -- ruta 5, No candidate pairs. wb_len=10.48774, diffs=[]\n"
     ]
    },
    {
     "name": "stderr",
     "output_type": "stream",
     "text": [
      "  9%|▉         | 15/169 [08:50<1:39:50, 38.90s/it, start=bella vista, end=tomas romero pereira, diff=0.556, matches=8]"
     ]
    },
    {
     "name": "stdout",
     "output_type": "stream",
     "text": [
      "73.85605 [106.587121  98.150097 151.992794 141.981387  73.3005    78.837342\n",
      "  73.26542   78.802262  76.931622  82.468464  75.137214  80.674056\n",
      "  92.653227  84.216203  92.653227  84.216203  76.785882  82.322724]\n"
     ]
    },
    {
     "name": "stderr",
     "output_type": "stream",
     "text": [
      "  9%|▉         | 16/169 [09:02<1:18:44, 30.88s/it, start=benjamin aceval, end=monte lindo, diff=-7.19, matches=9]     "
     ]
    },
    {
     "name": "stdout",
     "output_type": "stream",
     "text": [
      "163.759499 [170.947063 205.106947 196.787552]\n"
     ]
    },
    {
     "name": "stderr",
     "output_type": "stream",
     "text": [
      " 10%|█         | 17/169 [09:24<1:11:19, 28.15s/it, start=caacupe, end=azcurr, diff=0.497, matches=10]            "
     ]
    },
    {
     "name": "stdout",
     "output_type": "stream",
     "text": [
      "5.5030961 [ 6.720444  5.006575  9.393102  7.741324  6.027455 10.413982]\n"
     ]
    },
    {
     "name": "stderr",
     "output_type": "stream",
     "text": [
      " 11%|█         | 18/169 [10:00<1:16:46, 30.51s/it, start=caacupe, end=eusebio ayala, diff=-.486, matches=11]"
     ]
    },
    {
     "name": "stdout",
     "output_type": "stream",
     "text": [
      "17.492827 [14.76464  17.978465 19.007599 30.497608 18.229815 29.719824 11.246008\n",
      "  8.924888  8.924888 30.15474 ]\n"
     ]
    },
    {
     "name": "stderr",
     "output_type": "stream",
     "text": [
      " 11%|█         | 19/169 [10:30<1:15:45, 30.30s/it, start=caacupe, end=tobat, diff=0.0138, matches=12]       "
     ]
    },
    {
     "name": "stdout",
     "output_type": "stream",
     "text": [
      "16.107889 [39.396619 42.378836 16.094103 23.986989 16.998483 24.891369 26.088768\n",
      " 26.152494]\n"
     ]
    },
    {
     "name": "stderr",
     "output_type": "stream",
     "text": [
      " 11%|█         | 19/169 [12:53<1:15:45, 30.30s/it, start=caaguazu, end=yh, diff=-.195, matches=13]   "
     ]
    },
    {
     "name": "stdout",
     "output_type": "stream",
     "text": [
      "49.833149 [ 67.287655  87.004787  76.083765 100.6222    79.654143  77.082025\n",
      "  73.512643  67.733267  50.52501   60.608367  49.404852  51.066407\n",
      "  49.128898  54.241123  65.484538  50.028314  60.111671  48.908156\n",
      "  50.569711  48.632202  51.992394  67.381911  74.188251  79.336612\n",
      "  56.75425   66.837607  55.634092  57.295647  55.358138  80.334872\n",
      "  60.696107  89.613072  75.097742  87.285515  73.482581  88.283775\n",
      "  64.727951]\n"
     ]
    },
    {
     "name": "stderr",
     "output_type": "stream",
     "text": [
      " 12%|█▏        | 21/169 [13:05<1:59:45, 48.55s/it, start=caapucu, end=villa florid, diff=-1.85, matches=14]"
     ]
    },
    {
     "name": "stdout",
     "output_type": "stream",
     "text": [
      "19.567619 [21.41612  25.992031 26.420648]\n"
     ]
    },
    {
     "name": "stderr",
     "output_type": "stream",
     "text": [
      " 13%|█▎        | 22/169 [13:17<1:32:02, 37.57s/it, start=caazapa, end=macie, diff=-.781, matches=15]       "
     ]
    },
    {
     "name": "stdout",
     "output_type": "stream",
     "text": [
      "10.59524 [11.376129 30.565064 20.999172]\n"
     ]
    },
    {
     "name": "stderr",
     "output_type": "stream",
     "text": [
      " 14%|█▎        | 23/169 [13:32<1:15:09, 30.89s/it, start=caballero alvarez, end=salto del guaira, diff=-.809, matches=16]"
     ]
    },
    {
     "name": "stdout",
     "output_type": "stream",
     "text": [
      "39.1276822 [39.936766 42.716117 43.370419 46.14977 ]\n"
     ]
    },
    {
     "name": "stderr",
     "output_type": "stream",
     "text": [
      " 14%|█▍        | 24/169 [13:33<53:04, 21.96s/it, start=caballero alvarez, end=salto del guaira, diff=-.809, matches=16]  "
     ]
    },
    {
     "name": "stdout",
     "output_type": "stream",
     "text": [
      "Skipping calle 11 de setiembre -- pac, No candidate pairs. wb_len=2.4410789, diffs=[]\n"
     ]
    },
    {
     "name": "stderr",
     "output_type": "stream",
     "text": [
      " 15%|█▍        | 25/169 [14:29<1:17:20, 32.23s/it, start=calle san luis, end=asentamiento manduar, diff=0.395, matches=17]"
     ]
    },
    {
     "name": "stdout",
     "output_type": "stream",
     "text": [
      "16.21085 [15.695246 19.67991  20.949688 25.373417 40.936266 25.571921 15.815447\n",
      " 19.800111 21.057266 33.102326  9.664895 24.130921 33.25846   9.821029\n",
      " 36.397522]\n"
     ]
    },
    {
     "name": "stderr",
     "output_type": "stream",
     "text": [
      " 15%|█▌        | 26/169 [14:30<54:09, 22.72s/it, start=calle san luis, end=asentamiento manduar, diff=0.395, matches=17]  "
     ]
    },
    {
     "name": "stdout",
     "output_type": "stream",
     "text": [
      "Skipping campo jordan -- pac, No candidate pairs. wb_len=2.5713539, diffs=[]\n"
     ]
    },
    {
     "name": "stderr",
     "output_type": "stream",
     "text": [
      " 16%|█▌        | 27/169 [14:53<53:56, 22.79s/it, start=capiata, end=itaugu, diff=-1.61, matches=18]                     "
     ]
    },
    {
     "name": "stdout",
     "output_type": "stream",
     "text": [
      "8.9418383 [13.758647 10.554932 10.634399 14.671376 11.952662 12.028015]\n"
     ]
    },
    {
     "name": "stderr",
     "output_type": "stream",
     "text": [
      " 17%|█▋        | 28/169 [15:08<47:57, 20.41s/it, start=capiata, end=posta ybycu, diff=-.837, matches=19]"
     ]
    },
    {
     "name": "stdout",
     "output_type": "stream",
     "text": [
      "4.9474888 [5.784133 5.795603 3.024087 3.035557]\n"
     ]
    },
    {
     "name": "stderr",
     "output_type": "stream",
     "text": [
      " 17%|█▋        | 29/169 [15:09<34:04, 14.60s/it, start=capiata, end=posta ybycu, diff=-.837, matches=19]"
     ]
    },
    {
     "name": "stdout",
     "output_type": "stream",
     "text": [
      "Skipping capitan bado -- col pto panader, No candidate pairs. wb_len=13.47495, diffs=[]\n"
     ]
    },
    {
     "name": "stderr",
     "output_type": "stream",
     "text": [
      " 18%|█▊        | 30/169 [15:13<26:39, 11.50s/it, start=capitan bado, end=pedro juan caballer, diff=-7.01, matches=20]"
     ]
    },
    {
     "name": "stdout",
     "output_type": "stream",
     "text": [
      "6.2295918 [13.235202]\n"
     ]
    },
    {
     "name": "stderr",
     "output_type": "stream",
     "text": [
      " 18%|█▊        | 31/169 [16:00<50:51, 22.11s/it, start=caraguatay, end=santa elen, diff=-1.92, matches=21]           "
     ]
    },
    {
     "name": "stdout",
     "output_type": "stream",
     "text": [
      "20.540621 [22.460693 24.008592 22.460693 25.666859 27.308413 28.856312 27.308413\n",
      " 27.31355  26.132088 26.132088 40.612031 17.053843 17.715565]\n"
     ]
    },
    {
     "name": "stderr",
     "output_type": "stream",
     "text": [
      " 19%|█▉        | 32/169 [16:08<40:40, 17.81s/it, start=caraguatay, end=vapor cu, diff=2.41, matches=22]   "
     ]
    },
    {
     "name": "stdout",
     "output_type": "stream",
     "text": [
      "2.439111 [5.318176 0.033738]\n"
     ]
    },
    {
     "name": "stderr",
     "output_type": "stream",
     "text": [
      " 20%|█▉        | 33/169 [16:30<43:31, 19.21s/it, start=carapegua, end=san roque gonzalez, diff=0.221, matches=23]"
     ]
    },
    {
     "name": "stdout",
     "output_type": "stream",
     "text": [
      "14.73086929 [14.268097 14.510163 20.641247 20.883313 23.837812 24.079878]\n"
     ]
    },
    {
     "name": "stderr",
     "output_type": "stream",
     "text": [
      " 20%|██        | 34/169 [17:26<1:08:02, 30.24s/it, start=carmen del parana, end=encarnacio, diff=0.507, matches=24]"
     ]
    },
    {
     "name": "stdout",
     "output_type": "stream",
     "text": [
      "23.7484 [37.480555 41.741079 28.290434 34.730701 34.546126 38.80665  25.356005\n",
      " 31.796272 29.920381 34.180905 20.73026  27.170527 21.20301  23.241088\n",
      " 21.100675]\n"
     ]
    },
    {
     "name": "stderr",
     "output_type": "stream",
     "text": [
      " 21%|██        | 35/169 [17:42<57:51, 25.91s/it, start=carmen del parana, end=encarnacion, diff=-10.1, matches=25]  "
     ]
    },
    {
     "name": "stdout",
     "output_type": "stream",
     "text": [
      "10.99488783 [34.180905 21.20301  23.241088 21.100675]\n"
     ]
    },
    {
     "name": "stderr",
     "output_type": "stream",
     "text": [
      " 21%|██▏       | 36/169 [18:57<1:29:57, 40.58s/it, start=cecilio baez, end=san joaqui, diff=0.149, matches=26]    "
     ]
    },
    {
     "name": "stdout",
     "output_type": "stream",
     "text": [
      "22.67668 [36.650787 30.000053 22.940033 23.108077 19.689894 22.204363 36.070814\n",
      " 30.580049 22.36006  22.528104 19.109921 21.62439  30.301843 29.763391\n",
      " 24.823489 43.752588 36.036656 20.362173 20.262048 24.823489 36.036656]\n"
     ]
    },
    {
     "name": "stderr",
     "output_type": "stream",
     "text": [
      " 22%|██▏       | 37/169 [19:20<1:18:00, 35.46s/it, start=circunvalacion lambare, end=madame linch, diff=-.114, matches=27]"
     ]
    },
    {
     "name": "stdout",
     "output_type": "stream",
     "text": [
      "11.80420379 [10.82339  10.892702 11.917982 11.987294 13.000845 13.070157]\n"
     ]
    },
    {
     "name": "stderr",
     "output_type": "stream",
     "text": [
      " 22%|██▏       | 38/169 [19:25<57:34, 26.37s/it, start=circunvalacion santani, end=guayaib, diff=-12.1, matches=28]       "
     ]
    },
    {
     "name": "stdout",
     "output_type": "stream",
     "text": [
      "10.31845 [22.377868]\n"
     ]
    },
    {
     "name": "stderr",
     "output_type": "stream",
     "text": [
      " 23%|██▎       | 39/169 [19:34<45:25, 20.97s/it, start=circunvalacion santani, end=guayaibi, diff=-8.33, matches=29]"
     ]
    },
    {
     "name": "stdout",
     "output_type": "stream",
     "text": [
      "14.0456659 [24.131001 22.377868]\n"
     ]
    },
    {
     "name": "stderr",
     "output_type": "stream",
     "text": [
      " 24%|██▎       | 40/169 [19:43<37:08, 17.28s/it, start=colonia cleto romero, end=juan de men, diff=-13.7, matches=30]"
     ]
    },
    {
     "name": "stdout",
     "output_type": "stream",
     "text": [
      "17.20467 [30.928869 35.224518]\n"
     ]
    },
    {
     "name": "stderr",
     "output_type": "stream",
     "text": [
      " 24%|██▍       | 41/169 [19:48<29:11, 13.69s/it, start=concepcion, end=pozo colorado, diff=-59.7, matches=31]        "
     ]
    },
    {
     "name": "stdout",
     "output_type": "stream",
     "text": [
      "146.5854471 [206.272939]\n"
     ]
    },
    {
     "name": "stderr",
     "output_type": "stream",
     "text": [
      " 25%|██▍       | 42/169 [20:14<36:39, 17.32s/it, start=concepcion, end=vallem, diff=-54.4, matches=32]       "
     ]
    },
    {
     "name": "stdout",
     "output_type": "stream",
     "text": [
      "183.0303 [261.457022 277.440775 237.400288 237.400288]\n"
     ]
    },
    {
     "name": "stderr",
     "output_type": "stream",
     "text": [
      " 25%|██▌       | 43/169 [20:50<48:32, 23.11s/it, start=costa fleitas, end=yuquyt, diff=-1.9, matches=33]"
     ]
    },
    {
     "name": "stdout",
     "output_type": "stream",
     "text": [
      "7.133822 [10.694644  9.519088  2.171946  9.032854 11.869644 10.694088  3.346946\n",
      " 11.318552 10.142996  2.795854]\n"
     ]
    },
    {
     "name": "stderr",
     "output_type": "stream",
     "text": [
      " 26%|██▌       | 44/169 [20:55<36:45, 17.64s/it, start=cruce  villeta, end=arroyo para, diff=2.54, matches=34]"
     ]
    },
    {
     "name": "stdout",
     "output_type": "stream",
     "text": [
      "24.53022 [21.985501]\n"
     ]
    },
    {
     "name": "stderr",
     "output_type": "stream",
     "text": [
      " 27%|██▋       | 45/169 [20:56<25:50, 12.50s/it, start=cruce  villeta, end=arroyo para, diff=2.54, matches=34]"
     ]
    },
    {
     "name": "stdout",
     "output_type": "stream",
     "text": [
      "Skipping cruce curumbey -- caballero alvarez, No candidate pairs. wb_len=20.8543831, diffs=[]\n"
     ]
    },
    {
     "name": "stderr",
     "output_type": "stream",
     "text": [
      " 27%|██▋       | 45/169 [21:07<25:50, 12.50s/it, start=cruce guarani, end=colonia pindoty, diff=1.77, matches=35]"
     ]
    },
    {
     "name": "stdout",
     "output_type": "stream",
     "text": [
      "44.47736337 [61.823636 76.631141 42.702721]\n"
     ]
    },
    {
     "name": "stderr",
     "output_type": "stream",
     "text": [
      " 28%|██▊       | 47/169 [21:22<26:43, 13.15s/it, start=cruce ruta 5, end=bella vista norte, diff=-51.6, matches=36]"
     ]
    },
    {
     "name": "stdout",
     "output_type": "stream",
     "text": [
      "97.371277 [148.934777 156.205354 155.806194]\n"
     ]
    },
    {
     "name": "stderr",
     "output_type": "stream",
     "text": [
      " 28%|██▊       | 48/169 [21:24<19:13,  9.54s/it, start=cruce ruta 5, end=bella vista norte, diff=-51.6, matches=36]"
     ]
    },
    {
     "name": "stdout",
     "output_type": "stream",
     "text": [
      "Skipping cruce santa fe -- pai corone, No candidate pairs. wb_len=45.08411, diffs=[]\n"
     ]
    },
    {
     "name": "stderr",
     "output_type": "stream",
     "text": [
      " 29%|██▉       | 49/169 [21:25<14:02,  7.02s/it, start=cruce ruta 5, end=bella vista norte, diff=-51.6, matches=36]"
     ]
    },
    {
     "name": "stdout",
     "output_type": "stream",
     "text": [
      "Skipping curuguaty -- ygatim, No candidate pairs. wb_len=84.392891, diffs=[]\n"
     ]
    },
    {
     "name": "stderr",
     "output_type": "stream",
     "text": [
      " 30%|██▉       | 50/169 [21:55<27:32, 13.89s/it, start=desv guarambare, end=emp ruta guarambare villet, diff=-1.13, matches=37]"
     ]
    },
    {
     "name": "stdout",
     "output_type": "stream",
     "text": [
      "4.187758 [ 2.355055  2.355055  5.318057  0.441039 11.898564  5.759096  0.441039\n",
      " 12.339603]\n"
     ]
    },
    {
     "name": "stderr",
     "output_type": "stream",
     "text": [
      " 30%|███       | 51/169 [22:52<52:41, 26.79s/it, start=edelira, end=natali, diff=-.615, matches=38]                            "
     ]
    },
    {
     "name": "stdout",
     "output_type": "stream",
     "text": [
      "14.80609 [57.164863 20.087514 15.421222 25.402832 16.228753 48.318717 41.269665\n",
      " 35.551457 30.608682 37.410904 60.56779  40.32573  34.607522 29.664747\n",
      " 36.466969]\n"
     ]
    },
    {
     "name": "stderr",
     "output_type": "stream",
     "text": [
      " 31%|███       | 52/169 [23:14<49:46, 25.52s/it, start=emboscada, end=arroyos y estero, diff=-.433, matches=39]"
     ]
    },
    {
     "name": "stdout",
     "output_type": "stream",
     "text": [
      "28.586399 [27.991881 21.588534 29.018956 29.283614 22.880267 30.310689]\n"
     ]
    },
    {
     "name": "stderr",
     "output_type": "stream",
     "text": [
      " 31%|███▏      | 53/169 [23:29<43:14, 22.37s/it, start=emboscada, end=nueva colombi, diff=-.736, matches=40]   "
     ]
    },
    {
     "name": "stdout",
     "output_type": "stream",
     "text": [
      "10.12898 [10.86481  13.760947 12.084874 15.05268 ]\n"
     ]
    },
    {
     "name": "stderr",
     "output_type": "stream",
     "text": [
      " 32%|███▏      | 54/169 [23:30<30:21, 15.84s/it, start=emboscada, end=nueva colombi, diff=-.736, matches=40]"
     ]
    },
    {
     "name": "stdout",
     "output_type": "stream",
     "text": [
      "Skipping encarnacion -- itacu, No candidate pairs. wb_len=8.0875835, diffs=[]\n"
     ]
    },
    {
     "name": "stderr",
     "output_type": "stream",
     "text": [
      " 33%|███▎      | 55/169 [23:59<37:28, 19.72s/it, start=eusebio ayala, end=isla puc, diff=0.0989, matches=41]"
     ]
    },
    {
     "name": "stdout",
     "output_type": "stream",
     "text": [
      "11.40473 [19.602435 17.20359  11.265555 12.104559  9.653576 11.305804 12.144808\n",
      "  4.412801]\n"
     ]
    },
    {
     "name": "stderr",
     "output_type": "stream",
     "text": [
      " 33%|███▎      | 56/169 [24:14<34:33, 18.35s/it, start=eusebio ayala, end=itacurubi de la cordiller, diff=-2.48, matches=42]"
     ]
    },
    {
     "name": "stdout",
     "output_type": "stream",
     "text": [
      "13.14974 [15.632797 16.099015 25.407117 25.873335]\n"
     ]
    },
    {
     "name": "stderr",
     "output_type": "stream",
     "text": [
      " 34%|███▎      | 57/169 [24:15<24:35, 13.18s/it, start=eusebio ayala, end=itacurubi de la cordiller, diff=-2.48, matches=42]"
     ]
    },
    {
     "name": "stdout",
     "output_type": "stream",
     "text": [
      "Skipping filadelfia -- emp py09, No candidate pairs. wb_len=18.5645618, diffs=[]\n"
     ]
    },
    {
     "name": "stderr",
     "output_type": "stream",
     "text": [
      " 34%|███▍      | 58/169 [24:27<23:49, 12.87s/it, start=horqueta, end=yby yau, diff=0.398, matches=43]                       "
     ]
    },
    {
     "name": "stdout",
     "output_type": "stream",
     "text": [
      "69.69239999999999 [108.560506  98.147349  69.294033]\n"
     ]
    },
    {
     "name": "stderr",
     "output_type": "stream",
     "text": [
      " 34%|███▍      | 58/169 [24:36<23:49, 12.87s/it, start=inicio concesion tape pora, end=ciudad del est, diff=-11.1, matches=44]"
     ]
    },
    {
     "name": "stdout",
     "output_type": "stream",
     "text": [
      "79.281593 [90.420907 91.31217 ]\n"
     ]
    },
    {
     "name": "stderr",
     "output_type": "stream",
     "text": [
      " 36%|███▌      | 60/169 [24:36<15:10,  8.36s/it, start=inicio concesion tape pora, end=ciudad del est, diff=-11.1, matches=44]"
     ]
    },
    {
     "name": "stdout",
     "output_type": "stream",
     "text": [
      "Skipping inicio tape pora -- ciudad del est, No candidate pairs. wb_len=1.292715, diffs=[]\n"
     ]
    },
    {
     "name": "stderr",
     "output_type": "stream",
     "text": [
      " 36%|███▌      | 61/169 [25:24<36:18, 20.17s/it, start=isla pucu, end=caraguata, diff=-.133, matches=45]                      "
     ]
    },
    {
     "name": "stdout",
     "output_type": "stream",
     "text": [
      "10.71189 [16.334637 10.845156 15.692876 15.495633 10.006152 14.853872  4.212007\n",
      " 10.205682  4.853768 17.030658 17.639944 19.930337 16.998183 20.314527]\n"
     ]
    },
    {
     "name": "stderr",
     "output_type": "stream",
     "text": [
      " 37%|███▋      | 62/169 [25:45<36:14, 20.33s/it, start=ita, end=itaugu, diff=-.841, matches=46]         "
     ]
    },
    {
     "name": "stdout",
     "output_type": "stream",
     "text": [
      "13.07132 [11.018696 14.556734 14.630674 13.912354 17.450392 17.524332]\n"
     ]
    },
    {
     "name": "stderr",
     "output_type": "stream",
     "text": [
      " 37%|███▋      | 63/169 [26:10<38:21, 21.71s/it, start=ita, end=las piedra, diff=-1.64, matches=47]"
     ]
    },
    {
     "name": "stdout",
     "output_type": "stream",
     "text": [
      "5.9875221 [ 8.553408  8.878815  7.631289 12.313965 12.639372 11.391846 20.231955]\n"
     ]
    },
    {
     "name": "stderr",
     "output_type": "stream",
     "text": [
      " 38%|███▊      | 64/169 [26:33<38:53, 22.22s/it, start=itacurubi de la cordillera, end=valenzuel, diff=-2.13, matches=48]"
     ]
    },
    {
     "name": "stdout",
     "output_type": "stream",
     "text": [
      "14.63458 [24.276168 23.649461 17.389802 16.763095 25.779518 25.152811]\n"
     ]
    },
    {
     "name": "stderr",
     "output_type": "stream",
     "text": [
      " 38%|███▊      | 65/169 [29:35<2:01:40, 70.20s/it, start=itacurubi del rosario, end=san estanisla, diff=1.06, matches=49]"
     ]
    },
    {
     "name": "stdout",
     "output_type": "stream",
     "text": [
      "49.561451 [ 45.529267  54.648977  53.062746  64.514798  67.408456  65.771931\n",
      "  60.389958  63.905747  89.726991  65.142866  70.860603  69.623484\n",
      "  54.501955  52.349085 104.74417   62.516178  58.123833  44.36183\n",
      "  53.48154   70.943135  45.776507 104.866438  85.799291  66.250647\n",
      "  65.888715  48.503687  82.381888  84.71339   85.950509  80.72408\n",
      "  44.36183   53.48154   62.629548  58.237203  84.283934  85.521053\n",
      "  70.833677  69.596558  80.268045  65.645125  60.263152  63.778941\n",
      "  89.853797  65.01606   66.144601  65.782669  48.397641  82.275842]\n"
     ]
    },
    {
     "name": "stderr",
     "output_type": "stream",
     "text": [
      " 39%|███▉      | 66/169 [30:06<1:40:01, 58.27s/it, start=itaugua, end=patin, diff=0.11, matches=50]                      "
     ]
    },
    {
     "name": "stdout",
     "output_type": "stream",
     "text": [
      "5.1514368 [8.578269 9.168841 9.552438 5.041519 5.951114 6.015688 4.966291 6.044593\n",
      " 5.94046 ]\n"
     ]
    },
    {
     "name": "stderr",
     "output_type": "stream",
     "text": [
      " 39%|███▉      | 66/169 [30:36<1:40:01, 58.27s/it, start=itaugua, end=ypacaray, diff=0.0079, matches=51]"
     ]
    },
    {
     "name": "stdout",
     "output_type": "stream",
     "text": [
      "9.4667752 [10.30338  12.422682 12.382196  7.430752  9.534107  8.845446  7.341897\n",
      "  9.458879  8.770218]\n"
     ]
    },
    {
     "name": "stderr",
     "output_type": "stream",
     "text": [
      " 40%|████      | 68/169 [31:08<1:14:49, 44.45s/it, start=km 40 ypacarai, end=san bernardin, diff=1.65, matches=52]"
     ]
    },
    {
     "name": "stdout",
     "output_type": "stream",
     "text": [
      "7.1440978 [ 9.185808 13.603832 15.036191  5.490289  9.908313 11.340672 19.615076\n",
      " 24.0331   25.465459]\n"
     ]
    },
    {
     "name": "stderr",
     "output_type": "stream",
     "text": [
      " 40%|████      | 68/169 [31:35<1:14:49, 44.45s/it, start=km 40 ypacaray, end=san bernardin, diff=-3.04, matches=53]"
     ]
    },
    {
     "name": "stdout",
     "output_type": "stream",
     "text": [
      "2.452776 [ 9.185808 13.603832  5.490289  9.908313 11.340672 19.615076 24.0331\n",
      " 25.465459]\n"
     ]
    },
    {
     "name": "stderr",
     "output_type": "stream",
     "text": [
      " 41%|████▏     | 70/169 [31:36<45:54, 27.83s/it, start=km 40 ypacaray, end=san bernardin, diff=-3.04, matches=53]  "
     ]
    },
    {
     "name": "stdout",
     "output_type": "stream",
     "text": [
      "Skipping km7 -- supercarreter, No candidate pairs. wb_len=6.8561211, diffs=[]\n"
     ]
    },
    {
     "name": "stderr",
     "output_type": "stream",
     "text": [
      " 42%|████▏     | 71/169 [31:38<32:21, 19.81s/it, start=km 40 ypacaray, end=san bernardin, diff=-3.04, matches=53]"
     ]
    },
    {
     "name": "stdout",
     "output_type": "stream",
     "text": [
      "Skipping kressburgo mayor otano -- mayor otan, No candidate pairs. wb_len=2.773576, diffs=[]\n"
     ]
    },
    {
     "name": "stderr",
     "output_type": "stream",
     "text": [
      " 43%|████▎     | 72/169 [31:39<22:56, 14.19s/it, start=km 40 ypacaray, end=san bernardin, diff=-3.04, matches=53]"
     ]
    },
    {
     "name": "stdout",
     "output_type": "stream",
     "text": [
      "Skipping la patria -- infante rivarol, No candidate pairs. wb_len=108.4657, diffs=[]\n"
     ]
    },
    {
     "name": "stderr",
     "output_type": "stream",
     "text": [
      " 43%|████▎     | 73/169 [31:53<23:00, 14.38s/it, start=limpio, end=luque, diff=-.565, matches=54]                "
     ]
    },
    {
     "name": "stdout",
     "output_type": "stream",
     "text": [
      "13.4240281 [14.031793 11.951094 13.989153 11.740868]\n"
     ]
    },
    {
     "name": "stderr",
     "output_type": "stream",
     "text": [
      " 43%|████▎     | 73/169 [32:46<23:00, 14.38s/it, start=loma grande, end=alto, diff=1.09, matches=55]"
     ]
    },
    {
     "name": "stdout",
     "output_type": "stream",
     "text": [
      "10.82236 [12.941588  9.735531 33.35525  23.108331 27.896961 28.099849 28.99076\n",
      " 28.99076  23.108331 27.896961 28.099849 12.122692  8.916635 17.585382\n",
      " 14.379325]\n"
     ]
    },
    {
     "name": "stderr",
     "output_type": "stream",
     "text": [
      " 44%|████▍     | 75/169 [33:38<52:43, 33.66s/it, start=los cedrales, end=santa ros, diff=-.532, matches=56]"
     ]
    },
    {
     "name": "stdout",
     "output_type": "stream",
     "text": [
      "28.15835 [40.264007 44.937132 28.690549 47.155999 24.899331 40.135368 24.995411\n",
      " 29.27712  47.74257  40.263398 43.871184 33.012936 51.478386 30.002622\n",
      " 29.850826]\n"
     ]
    },
    {
     "name": "stderr",
     "output_type": "stream",
     "text": [
      " 45%|████▍     | 76/169 [33:58<45:56, 29.64s/it, start=luque, end=aregua, diff=-.201, matches=57]          "
     ]
    },
    {
     "name": "stdout",
     "output_type": "stream",
     "text": [
      "12.62387002 [ 8.63712  13.005137 12.918834  6.155371 12.825241 10.538347]\n"
     ]
    },
    {
     "name": "stderr",
     "output_type": "stream",
     "text": [
      " 46%|████▌     | 77/169 [34:19<41:30, 27.07s/it, start=luque, end=rio salado_lim 3 dpto cordiller, diff=-2.43, matches=58]"
     ]
    },
    {
     "name": "stdout",
     "output_type": "stream",
     "text": [
      "8.1479816 [17.491268 14.252929 13.233145 15.242983 11.595761 10.575977]\n"
     ]
    },
    {
     "name": "stderr",
     "output_type": "stream",
     "text": [
      " 46%|████▌     | 78/169 [34:35<35:49, 23.62s/it, start=luque, end=san bernardino, diff=-13.2, matches=59]                 "
     ]
    },
    {
     "name": "stdout",
     "output_type": "stream",
     "text": [
      "15.6072501 [33.101038 33.360548 28.759917 29.019427]\n"
     ]
    },
    {
     "name": "stderr",
     "output_type": "stream",
     "text": [
      " 46%|████▌     | 78/169 [34:55<35:49, 23.62s/it, start=luque, end=san lorenzo, diff=0.234, matches=60]   "
     ]
    },
    {
     "name": "stdout",
     "output_type": "stream",
     "text": [
      "8.895617609999999 [ 8.661433 10.378905 15.785429 13.000059 14.717531 19.011641]\n"
     ]
    },
    {
     "name": "stderr",
     "output_type": "stream",
     "text": [
      " 47%|████▋     | 79/169 [35:03<34:02, 22.69s/it, start=maciel, end=berton, diff=-10.1, matches=61]    "
     ]
    },
    {
     "name": "stdout",
     "output_type": "stream",
     "text": [
      "16.126579 [26.24413  39.300684]\n"
     ]
    },
    {
     "name": "stderr",
     "output_type": "stream",
     "text": [
      " 47%|████▋     | 80/169 [36:18<27:13, 18.36s/it, start=mbocayaty, end=independencia, diff=-.983, matches=62]"
     ]
    },
    {
     "name": "stdout",
     "output_type": "stream",
     "text": [
      "25.657875 [20.359752 32.441336 26.640419 47.537654 47.75362  57.982417 58.198383\n",
      " 56.928787 57.144753 48.310228 48.526194 48.571911 48.787877 49.322759\n",
      " 56.902626 57.118592]\n"
     ]
    },
    {
     "name": "stderr",
     "output_type": "stream",
     "text": [
      " 49%|████▊     | 82/169 [36:53<50:59, 35.17s/it, start=mbocayaty del guaira, end=villarric, diff=-.88, matches=63]"
     ]
    },
    {
     "name": "stdout",
     "output_type": "stream",
     "text": [
      "6.4873781 [38.938658  3.796357  5.183551  7.367026 14.948825  9.269068 11.452543\n",
      " 19.034342 19.904316 23.700673]\n"
     ]
    },
    {
     "name": "stderr",
     "output_type": "stream",
     "text": [
      " 49%|████▉     | 83/169 [37:11<42:49, 29.87s/it, start=moises bertoni, end=yut, diff=-34.2, matches=64]           "
     ]
    },
    {
     "name": "stdout",
     "output_type": "stream",
     "text": [
      "57.156879 [111.279498 108.602836  97.878628  91.3342  ]\n"
     ]
    },
    {
     "name": "stderr",
     "output_type": "stream",
     "text": [
      " 50%|████▉     | 84/169 [37:25<35:35, 25.12s/it, start=monte lindo, end=pozo colorad, diff=0.613, matches=65]"
     ]
    },
    {
     "name": "stdout",
     "output_type": "stream",
     "text": [
      "56.804871 [70.526185 64.511457 62.20679  56.192062]\n"
     ]
    },
    {
     "name": "stderr",
     "output_type": "stream",
     "text": [
      " 50%|████▉     | 84/169 [37:53<35:35, 25.12s/it, start=natalio, end=pto palom, diff=3.08, matches=66]        "
     ]
    },
    {
     "name": "stdout",
     "output_type": "stream",
     "text": [
      "13.34625 [22.372675 22.442222 24.521816 24.591363 10.192747 10.262294 22.444659\n",
      " 22.514206]\n"
     ]
    },
    {
     "name": "stderr",
     "output_type": "stream",
     "text": [
      " 51%|█████     | 86/169 [38:15<34:11, 24.71s/it, start=natalio, end=yatytay, diff=1.14, matches=67]  "
     ]
    },
    {
     "name": "stdout",
     "output_type": "stream",
     "text": [
      "26.5845924 [23.967154 25.449139 42.659173 44.141158 58.25358  30.821298]\n"
     ]
    },
    {
     "name": "stderr",
     "output_type": "stream",
     "text": [
      " 51%|█████▏    | 87/169 [38:15<23:50, 17.45s/it, start=natalio, end=yatytay, diff=1.14, matches=67]"
     ]
    },
    {
     "name": "stdout",
     "output_type": "stream",
     "text": [
      "Skipping natalio a yatytay -- ciudad del est, No candidate pairs. wb_len=9.5220737, diffs=[]\n"
     ]
    },
    {
     "name": "stderr",
     "output_type": "stream",
     "text": [
      " 52%|█████▏    | 88/169 [40:59<1:22:41, 61.26s/it, start=nemby, end=san antonio, diff=0.193, matches=68]"
     ]
    },
    {
     "name": "stdout",
     "output_type": "stream",
     "text": [
      "4.2273453181 [25.851092 23.848406 20.43318  25.656539 23.653853 10.669607  5.742615\n",
      " 11.801579 10.306727  4.03459   9.960148 12.135014  9.550586 11.801579\n",
      "  6.445771 12.504735 10.387445  4.737746  9.54938  12.83817   9.139818\n",
      " 12.504735  5.742615 11.801579 10.306727  4.03459   9.960148 12.135014\n",
      "  9.550586 11.801579  3.59934  13.371194 12.625586  3.580948  7.290875\n",
      " 13.704629  6.881313 13.371194 18.515762 17.670815  6.319918 12.378882\n",
      " 10.261592  4.611893  9.675233 12.712317  9.265671 12.378882]\n"
     ]
    },
    {
     "name": "stderr",
     "output_type": "stream",
     "text": [
      " 53%|█████▎    | 89/169 [42:05<1:23:51, 62.90s/it, start=nemby, end=ytoror, diff=-3.66, matches=69]     "
     ]
    },
    {
     "name": "stdout",
     "output_type": "stream",
     "text": [
      "0.1792243 [7.627498 6.505751 6.638815 7.635548 7.21673  6.094983 6.228047 7.22478\n",
      " 7.627498 6.505751 6.638815 7.635548 4.958225 3.836478 3.969542 4.966275\n",
      " 7.342583 6.220836 6.3539   7.350633]\n"
     ]
    },
    {
     "name": "stderr",
     "output_type": "stream",
     "text": [
      " 53%|█████▎    | 90/169 [42:27<1:06:25, 50.44s/it, start=numi, end=san salvado, diff=1.63, matches=70]"
     ]
    },
    {
     "name": "stdout",
     "output_type": "stream",
     "text": [
      "15.43769 [11.133399 18.919232 17.263728 13.804921 21.590754 19.93525 ]\n"
     ]
    },
    {
     "name": "stderr",
     "output_type": "stream",
     "text": [
      " 54%|█████▍    | 91/169 [42:51<55:27, 42.66s/it, start=paraguari, end=carapegua, diff=0.0554, matches=71]  "
     ]
    },
    {
     "name": "stdout",
     "output_type": "stream",
     "text": [
      "19.3071109 [34.157245 20.906365 32.888793 19.251739 31.234167 25.046686 37.029114]\n"
     ]
    },
    {
     "name": "stderr",
     "output_type": "stream",
     "text": [
      " 54%|█████▍    | 92/169 [43:35<55:02, 42.89s/it, start=paso pe, end=loma grand, diff=-1.33, matches=72]  "
     ]
    },
    {
     "name": "stdout",
     "output_type": "stream",
     "text": [
      "12.39173 [35.512439 22.60648  51.550492 53.687244 17.912686 16.354556 17.170152\n",
      " 18.510386 53.008888 13.726458 57.994699 13.726458]\n"
     ]
    },
    {
     "name": "stderr",
     "output_type": "stream",
     "text": [
      " 55%|█████▌    | 93/169 [44:08<50:40, 40.01s/it, start=patino, end=ypacara, diff=-1.11, matches=73]    "
     ]
    },
    {
     "name": "stdout",
     "output_type": "stream",
     "text": [
      "7.6811681 [ 8.789844 10.8545    3.803927 13.381866 15.485221  9.179503  9.335259\n",
      " 11.399915  2.829758]\n"
     ]
    },
    {
     "name": "stderr",
     "output_type": "stream",
     "text": [
      " 56%|█████▌    | 94/169 [44:38<46:07, 36.90s/it, start=pdte franco, end=cedrale, diff=0.61, matches=74]"
     ]
    },
    {
     "name": "stdout",
     "output_type": "stream",
     "text": [
      "21.15749 [19.067936 22.707134 19.067327 18.732528 18.60348  14.520911 20.547935\n",
      " 20.418887]\n"
     ]
    },
    {
     "name": "stderr",
     "output_type": "stream",
     "text": [
      " 56%|█████▌    | 95/169 [45:18<46:43, 37.89s/it, start=pilar, end=isla umb, diff=-2.38, matches=75]    "
     ]
    },
    {
     "name": "stdout",
     "output_type": "stream",
     "text": [
      "11.647 [14.023217 17.159177 14.023217 17.159177 15.380584 18.516544 21.724609\n",
      " 24.860569 18.067367 21.443158  7.9089  ]\n"
     ]
    },
    {
     "name": "stderr",
     "output_type": "stream",
     "text": [
      " 57%|█████▋    | 96/169 [45:33<37:57, 31.19s/it, start=piquete cue, end=limpi, diff=-.402, matches=76]"
     ]
    },
    {
     "name": "stdout",
     "output_type": "stream",
     "text": [
      "7.9262438 [8.328503 6.419938 8.375866 6.467301]\n"
     ]
    },
    {
     "name": "stderr",
     "output_type": "stream",
     "text": [
      " 57%|█████▋    | 97/169 [46:03<36:49, 30.68s/it, start=puerto cantera, end=alvorada, diff=-.963, matches=77]"
     ]
    },
    {
     "name": "stdout",
     "output_type": "stream",
     "text": [
      "4.1077809 [ 8.106314  7.321621 18.410012  7.911666  7.126973 16.354042  5.855696\n",
      "  5.071003]\n"
     ]
    },
    {
     "name": "stderr",
     "output_type": "stream",
     "text": [
      " 58%|█████▊    | 98/169 [46:04<25:52, 21.86s/it, start=puerto cantera, end=alvorada, diff=-.963, matches=77]"
     ]
    },
    {
     "name": "stdout",
     "output_type": "stream",
     "text": [
      "Skipping py01 km 15 -- reduto cuartel de la victori, No candidate pairs. wb_len=7.16397, diffs=[]\n"
     ]
    },
    {
     "name": "stderr",
     "output_type": "stream",
     "text": [
      " 59%|█████▊    | 99/169 [46:39<29:53, 25.63s/it, start=quiindy, end=caapucu, diff=2.07, matches=78]         "
     ]
    },
    {
     "name": "stdout",
     "output_type": "stream",
     "text": [
      "33.735059 [48.722516 49.101258 31.66411  68.134706 27.387628 63.858224 37.61828\n",
      " 74.088876 50.626343]\n"
     ]
    },
    {
     "name": "stderr",
     "output_type": "stream",
     "text": [
      " 59%|█████▉    | 100/169 [46:58<27:16, 23.72s/it, start=ramal ruta 8, end=santa catalin, diff=-6.44, matches=79]"
     ]
    },
    {
     "name": "stdout",
     "output_type": "stream",
     "text": [
      "3.800467 [10.243274 10.243274 11.439173 17.295308 13.646406]\n"
     ]
    },
    {
     "name": "stderr",
     "output_type": "stream",
     "text": [
      " 60%|█████▉    | 101/169 [47:52<37:21, 32.96s/it, start=reducto, end=nemb, diff=-2.51, matches=80]              "
     ]
    },
    {
     "name": "stdout",
     "output_type": "stream",
     "text": [
      "2.649821 [5.280378 5.361096 5.280378 7.949651 5.235243 5.208459 5.289177 5.208459\n",
      " 7.877732 5.163324 5.312495 5.393213 5.312495 7.981768 5.26736 ]\n"
     ]
    },
    {
     "name": "stderr",
     "output_type": "stream",
     "text": [
      " 60%|██████    | 102/169 [48:15<33:20, 29.86s/it, start=repatriacion, end=caaguaz, diff=-1.83, matches=81]"
     ]
    },
    {
     "name": "stdout",
     "output_type": "stream",
     "text": [
      "11.18253 [16.643946 17.737151 20.843826  9.331753 13.011456 18.373235]\n"
     ]
    },
    {
     "name": "stderr",
     "output_type": "stream",
     "text": [
      " 61%|██████    | 103/169 [48:16<23:22, 21.25s/it, start=repatriacion, end=caaguaz, diff=-1.83, matches=81]"
     ]
    },
    {
     "name": "stdout",
     "output_type": "stream",
     "text": [
      "Skipping rodriguez de francia -- paso medi, No candidate pairs. wb_len=2.3629651, diffs=[]\n"
     ]
    },
    {
     "name": "stderr",
     "output_type": "stream",
     "text": [
      " 62%|██████▏   | 104/169 [48:17<16:29, 15.22s/it, start=repatriacion, end=caaguaz, diff=-1.83, matches=81]"
     ]
    },
    {
     "name": "stdout",
     "output_type": "stream",
     "text": [
      "Skipping rotonda desvio remanso -- cruce semide, No candidate pairs. wb_len=5.2801051, diffs=[]\n"
     ]
    },
    {
     "name": "stderr",
     "output_type": "stream",
     "text": [
      " 62%|██████▏   | 105/169 [49:09<27:47, 26.05s/it, start=ruta 2, end=aldana canad, diff=-7.46, matches=82] "
     ]
    },
    {
     "name": "stdout",
     "output_type": "stream",
     "text": [
      "12.08057 [19.975659 23.105962 19.538915 22.882196 20.922674 20.922674 19.966194\n",
      " 22.965832 26.096135 22.529088 25.872369 23.912847 23.912847 22.956367]\n"
     ]
    },
    {
     "name": "stderr",
     "output_type": "stream",
     "text": [
      " 63%|██████▎   | 106/169 [49:32<26:24, 25.15s/it, start=ruta 3, end=ex caballeri, diff=0.229, matches=83]"
     ]
    },
    {
     "name": "stdout",
     "output_type": "stream",
     "text": [
      "1.853524 [15.388742 13.033398  1.624131  1.618805  1.624131  1.618805]\n"
     ]
    },
    {
     "name": "stderr",
     "output_type": "stream",
     "text": [
      " 63%|██████▎   | 107/169 [49:33<18:32, 17.95s/it, start=ruta 3, end=ex caballeri, diff=0.229, matches=83]"
     ]
    },
    {
     "name": "stdout",
     "output_type": "stream",
     "text": [
      "Skipping ruta 7 km 14 -- cedrales, No candidate pairs. wb_len=20.632039, diffs=[]\n"
     ]
    },
    {
     "name": "stderr",
     "output_type": "stream",
     "text": [
      " 64%|██████▍   | 108/169 [49:41<15:25, 15.18s/it, start=ruta 7 km 4, end=pte franco, diff=-27, matches=84]"
     ]
    },
    {
     "name": "stdout",
     "output_type": "stream",
     "text": [
      "8.31018029 [35.329216 35.329216]\n"
     ]
    },
    {
     "name": "stderr",
     "output_type": "stream",
     "text": [
      " 64%|██████▍   | 109/169 [49:47<12:07, 12.13s/it, start=ruta 9, end=loma plat, diff=-22.9, matches=85]    "
     ]
    },
    {
     "name": "stdout",
     "output_type": "stream",
     "text": [
      "20.985889 [43.883566]\n"
     ]
    },
    {
     "name": "stderr",
     "output_type": "stream",
     "text": [
      " 65%|██████▌   | 110/169 [49:51<09:43,  9.89s/it, start=ruta 9, end=neulan, diff=-45.6, matches=86]   "
     ]
    },
    {
     "name": "stdout",
     "output_type": "stream",
     "text": [
      "20.671471 [66.285022]\n"
     ]
    },
    {
     "name": "stderr",
     "output_type": "stream",
     "text": [
      " 66%|██████▌   | 111/169 [50:07<11:09, 11.55s/it, start=ruta a pirayu, end=lim distrito caacup, diff=0.0992, matches=87]"
     ]
    },
    {
     "name": "stdout",
     "output_type": "stream",
     "text": [
      "1.1837029 [1.084494 1.359837 0.964358 7.700804]\n"
     ]
    },
    {
     "name": "stderr",
     "output_type": "stream",
     "text": [
      " 66%|██████▋   | 112/169 [51:03<23:45, 25.00s/it, start=ruta acceso sur nemby ruta py01, end=villa elis, diff=-1.86, matches=88]"
     ]
    },
    {
     "name": "stdout",
     "output_type": "stream",
     "text": [
      "6.6379042 [11.532214 15.436063  9.373489  8.495734  9.889088 12.23537  15.463799\n",
      " 10.076645  9.19889  10.592244 11.532214 15.436063  9.373489  8.495734\n",
      "  9.889088]\n"
     ]
    },
    {
     "name": "stderr",
     "output_type": "stream",
     "text": [
      " 67%|██████▋   | 113/169 [51:04<16:39, 17.84s/it, start=ruta acceso sur nemby ruta py01, end=villa elis, diff=-1.86, matches=88]"
     ]
    },
    {
     "name": "stdout",
     "output_type": "stream",
     "text": [
      "Skipping ruta py01 -- guarambar, No candidate pairs. wb_len=5.4656229, diffs=[]\n"
     ]
    },
    {
     "name": "stderr",
     "output_type": "stream",
     "text": [
      " 67%|██████▋   | 114/169 [51:05<11:45, 12.83s/it, start=ruta acceso sur nemby ruta py01, end=villa elis, diff=-1.86, matches=88]"
     ]
    },
    {
     "name": "stdout",
     "output_type": "stream",
     "text": [
      "Skipping ruta py02 -- mcal lope, No candidate pairs. wb_len=19.16538, diffs=[]\n"
     ]
    },
    {
     "name": "stderr",
     "output_type": "stream",
     "text": [
      " 68%|██████▊   | 115/169 [51:06<08:13,  9.15s/it, start=ruta acceso sur nemby ruta py01, end=villa elis, diff=-1.86, matches=88]"
     ]
    },
    {
     "name": "stdout",
     "output_type": "stream",
     "text": [
      "Skipping ruta py02 -- nueva londre, No candidate pairs. wb_len=8.2651472, diffs=[]\n"
     ]
    },
    {
     "name": "stderr",
     "output_type": "stream",
     "text": [
      " 69%|██████▊   | 116/169 [51:06<05:48,  6.57s/it, start=ruta acceso sur nemby ruta py01, end=villa elis, diff=-1.86, matches=88]"
     ]
    },
    {
     "name": "stdout",
     "output_type": "stream",
     "text": [
      "Skipping ruta py03 -- juan de men, No candidate pairs. wb_len=18.24349, diffs=[]\n"
     ]
    },
    {
     "name": "stderr",
     "output_type": "stream",
     "text": [
      " 69%|██████▉   | 117/169 [51:07<04:08,  4.78s/it, start=ruta acceso sur nemby ruta py01, end=villa elis, diff=-1.86, matches=88]"
     ]
    },
    {
     "name": "stdout",
     "output_type": "stream",
     "text": [
      "Skipping ruta py03 -- unio, No candidate pairs. wb_len=15.43812, diffs=[]\n"
     ]
    },
    {
     "name": "stderr",
     "output_type": "stream",
     "text": [
      " 70%|██████▉   | 118/169 [51:08<03:08,  3.70s/it, start=ruta acceso sur nemby ruta py01, end=villa elis, diff=-1.86, matches=88]"
     ]
    },
    {
     "name": "stdout",
     "output_type": "stream",
     "text": [
      "Skipping ruta py06 -- jesu, No candidate pairs. wb_len=10.41375, diffs=[]\n"
     ]
    },
    {
     "name": "stderr",
     "output_type": "stream",
     "text": [
      " 70%|███████   | 119/169 [55:59<1:14:52, 89.85s/it, start=ruta py06 santa rita, end=santa ros, diff=-.526, matches=89]          "
     ]
    },
    {
     "name": "stdout",
     "output_type": "stream",
     "text": [
      "20.90353 [ 18.976377  21.646731  19.130716  32.763875  32.763875  16.412811\n",
      "  21.870035  16.170261  22.024374  33.250169  33.250169  46.084665\n",
      "  46.379145  23.035372  29.169149  29.933503  36.06728   30.164342\n",
      "  36.57685   36.884069 104.588874  20.166715  18.544593  20.166715\n",
      "  20.140536  33.023759  47.508146  46.936525  46.936525  20.294875\n",
      "  17.009378  17.009378  31.614842  38.302241  38.176182  24.35904\n",
      "  24.72814   28.985041  21.429221  27.436452  27.968163  41.012146\n",
      "  60.188286  16.088371  29.80963   35.364782  24.894378  24.894378\n",
      "  29.80963   31.614842  38.302241  38.176182  30.164342  36.57685\n",
      "  36.884069  20.287086  18.664964  20.287086  20.004739  33.159556\n",
      "  47.628517  47.056896  47.056896  20.159078  17.145175  17.145175\n",
      "  45.803411  46.097891  18.50565   13.666147  18.622048  24.504275\n",
      "  24.378216  24.49563   30.629407  24.880609  31.014386]\n"
     ]
    },
    {
     "name": "stderr",
     "output_type": "stream",
     "text": [
      " 71%|███████   | 120/169 [56:08<53:27, 65.47s/it, start=ruta py06_km 75, end=edelir, diff=-6.61, matches=90]          "
     ]
    },
    {
     "name": "stdout",
     "output_type": "stream",
     "text": [
      "18.65922 [29.780365 25.266631]\n"
     ]
    },
    {
     "name": "stderr",
     "output_type": "stream",
     "text": [
      " 72%|███████▏  | 121/169 [56:09<36:55, 46.16s/it, start=ruta py06_km 75, end=edelir, diff=-6.61, matches=90]"
     ]
    },
    {
     "name": "stdout",
     "output_type": "stream",
     "text": [
      "Skipping ruta py07 -- juan manuel fruto, No candidate pairs. wb_len=3.3578711, diffs=[]\n"
     ]
    },
    {
     "name": "stderr",
     "output_type": "stream",
     "text": [
      " 72%|███████▏  | 121/169 [56:13<36:55, 46.16s/it, start=ruta py07, end=troch, diff=-36.1, matches=91]       "
     ]
    },
    {
     "name": "stdout",
     "output_type": "stream",
     "text": [
      "13.15935 [49.249445]\n"
     ]
    },
    {
     "name": "stderr",
     "output_type": "stream",
     "text": [
      " 73%|███████▎  | 123/169 [56:14<18:18, 23.89s/it, start=ruta py07, end=troch, diff=-36.1, matches=91]"
     ]
    },
    {
     "name": "stdout",
     "output_type": "stream",
     "text": [
      "Skipping ruta py08 -- cruce mainumb, No candidate pairs. wb_len=1.807254, diffs=[]\n"
     ]
    },
    {
     "name": "stderr",
     "output_type": "stream",
     "text": [
      " 73%|███████▎  | 124/169 [56:15<12:48, 17.08s/it, start=ruta py07, end=troch, diff=-36.1, matches=91]"
     ]
    },
    {
     "name": "stdout",
     "output_type": "stream",
     "text": [
      "Skipping ruta py10 -- friesla, No candidate pairs. wb_len=6.71456, diffs=[]\n"
     ]
    },
    {
     "name": "stderr",
     "output_type": "stream",
     "text": [
      " 74%|███████▍  | 125/169 [1:08:34<2:51:10, 233.41s/it, start=san alfredo, end=col san francisc, diff=-.426, matches=92]"
     ]
    },
    {
     "name": "stdout",
     "output_type": "stream",
     "text": [
      "51.120178 [ 50.444928  70.128111  60.114749  50.329695  63.877636  53.155006\n",
      "  58.877721  51.67139   64.017252  58.877721 448.120525  54.39106\n",
      "  56.797147 104.558426 107.254994  83.284681  70.380264 108.945417\n",
      "  70.380264  82.637022  77.246854  72.248574  76.076205  78.451689\n",
      "  77.246854  72.615143  72.198223  68.889281  67.889362  73.794112\n",
      "  74.145887  81.596427  72.15502   63.752696  53.030066  59.55645\n",
      "  51.54645   63.892312  59.55645  111.723021 114.419589  90.449276\n",
      "  67.117179 116.110012  67.117179  58.519672  59.355025  59.326284\n",
      "  58.519672  58.057812  55.914264  82.693352  77.796592  60.145368\n",
      "  66.847491  99.727284  68.421301  99.783092  77.796592  79.207777\n",
      "  72.576767  69.47463   80.323995  66.718859  61.90367   72.576767\n",
      "  66.563175 152.238956  85.420962  86.420881 152.238956  67.085984\n",
      "  69.764982  86.69845   55.139815  70.152376  46.438171  53.046192\n",
      "  76.240575 106.558414  82.836332  70.195579  82.89214   76.128218\n",
      "  65.406478  82.59953   82.59953   72.442936  69.506334  68.506415\n",
      "  73.72077   74.76294   80.979374  72.399733  69.156489  69.156489\n",
      "  74.689576  68.286167  63.151628  70.219415  70.219415  93.110507\n",
      "  72.856684  72.788204  93.110507  76.215415  70.652074  59.006891\n",
      "  47.323991  67.889663  59.146507  62.95898  139.110937  46.071536\n",
      "  47.40737  143.082743  70.729873 148.009634  46.071536  68.586325\n",
      "  54.39106   56.797147  71.706759  80.247852  53.080218  73.782422\n",
      "  53.13484   59.390773  79.390161  61.895209  61.753622  52.959003\n",
      "  79.390161  71.417632  79.951837  53.280255  73.982459  53.334877\n",
      "  59.101646  79.094146  61.606082  61.464495  53.15904   79.094146\n",
      " 152.238956  85.420962  86.420881 152.238956  67.085984  69.764982\n",
      "  86.765975  55.20734   81.204011 132.989313  81.104905  72.754584\n",
      "  72.754584  69.866169  73.303792  68.169253  75.23704   75.23704\n",
      "  57.790976  48.082565  67.765748  57.752386  66.500719  66.500719\n",
      "  47.967332  81.301839  75.443931  60.756186  60.687706  81.301839\n",
      "  75.288247  60.858906  83.374217  69.700158  83.711657  56.996948\n",
      "  63.499059  63.499059  67.503522  61.131125  61.243482  58.690185\n",
      "  91.585126  72.717001]\n"
     ]
    },
    {
     "name": "stderr",
     "output_type": "stream",
     "text": [
      " 75%|███████▍  | 126/169 [1:08:55<2:01:46, 169.92s/it, start=san bernardino, end=alto, diff=0.821, matches=93]         "
     ]
    },
    {
     "name": "stdout",
     "output_type": "stream",
     "text": [
      "7.879848 [12.97905  13.025982  8.943544 18.149931  7.058681 16.265068]\n"
     ]
    },
    {
     "name": "stderr",
     "output_type": "stream",
     "text": [
      " 75%|███████▌  | 127/169 [1:10:01<1:36:58, 138.55s/it, start=san estanislao, end=rio corrientes, diff=-3.18, matches=94]"
     ]
    },
    {
     "name": "stdout",
     "output_type": "stream",
     "text": [
      "43.8774394 [57.462629 58.305557 50.721735 51.564663 55.912857 66.679808 62.215959\n",
      " 66.377187 61.913338 78.377526 73.930445 78.223334 74.084637 60.549479\n",
      " 56.08563  47.052684 48.289803]\n"
     ]
    },
    {
     "name": "stderr",
     "output_type": "stream",
     "text": [
      " 76%|███████▌  | 128/169 [1:11:30<1:24:34, 123.77s/it, start=san ignacio, end=santa rosa, diff=-1.71, matches=95]       "
     ]
    },
    {
     "name": "stdout",
     "output_type": "stream",
     "text": [
      "9.521766 [18.77931  19.07379  11.35745  25.828524 12.825585 24.670561 11.231408\n",
      " 12.873435 25.176335 24.018372 29.071068 32.051757 32.583468 31.083096\n",
      " 32.344679 31.083096  4.609449  4.037828  4.037828 40.94985  40.94985\n",
      " 23.741134 24.244325 34.053157 14.929988]\n"
     ]
    },
    {
     "name": "stderr",
     "output_type": "stream",
     "text": [
      " 76%|███████▋  | 129/169 [1:11:46<1:01:00, 91.51s/it, start=san isidro del curuguaty, end=itanar, diff=-1.26, matches=96] "
     ]
    },
    {
     "name": "stdout",
     "output_type": "stream",
     "text": [
      "8.144428300000001 [ 9.405497 10.855105 81.038457 42.368013]\n"
     ]
    },
    {
     "name": "stderr",
     "output_type": "stream",
     "text": [
      " 76%|███████▋  | 129/169 [1:17:33<1:01:00, 91.51s/it, start=san joquin, end=yh, diff=0.0137, matches=97]                 "
     ]
    },
    {
     "name": "stdout",
     "output_type": "stream",
     "text": [
      "19.03507 [41.214319 27.044934 16.960703 28.164218 28.636427 28.440172 17.794131\n",
      " 18.913415 19.385624 19.189369 43.912451 17.626087 18.745371 19.21758\n",
      " 19.021325 43.744407 21.04427  10.960039 22.163554 22.635763 22.439508\n",
      " 42.438011 18.529801 19.649085 20.121294 19.925039 44.648121 24.854365\n",
      " 30.603065 28.812228 36.474521 36.474521 29.372637 32.134353 32.692794\n",
      " 36.395981 39.179658 39.519254 94.95177  13.964136 34.399158 83.11704\n",
      " 84.1153   39.607558 17.834104 26.744287 17.674664 16.517223 17.950618\n",
      " 36.767154 37.910914 42.792832 43.409839 32.034348 43.791092 14.167061\n",
      " 18.233907 37.87054  25.092341 21.093062 21.069237 29.97942  20.909797\n",
      " 19.752356 21.185751 21.241583 18.706212 39.647854 13.029477 37.519196\n",
      " 17.916593 32.169617 37.254865 36.474521 36.474521 34.517637 29.144762\n",
      " 29.144762 14.856988 15.855248 18.669169 18.669169 39.179658 42.935797\n",
      " 43.266874 32.177313 43.934057 14.310026 13.964136 34.399158 32.359695\n",
      " 39.647854 36.395981 83.162491 84.160751 29.372637 37.254865]\n"
     ]
    },
    {
     "name": "stderr",
     "output_type": "stream",
     "text": [
      " 78%|███████▊  | 131/169 [1:26:44<2:59:10, 282.90s/it, start=san jose, end=san juan, diff=0.124, matches=98]"
     ]
    },
    {
     "name": "stdout",
     "output_type": "stream",
     "text": [
      "1.2472219 [5.65762700e+00 7.77120100e+00 8.15978300e+00 9.92481600e+00\n",
      " 1.27396720e+01 9.92481600e+00 1.13366170e+01 1.27396720e+01\n",
      " 1.15644280e+01 3.22956860e+01 3.65573140e+01 3.76805290e+01\n",
      " 3.25210280e+01 3.65573140e+01 8.35768900e+00 7.70028900e+00\n",
      " 1.94876570e+01 8.90427800e+00 1.41259130e+01 7.43714400e+00\n",
      " 1.96400500e+00 1.96400500e+00 1.28579360e+01 1.54204700e+01\n",
      " 1.54204700e+01 7.36687600e+00 9.12417400e+00 1.10439730e+01\n",
      " 1.10439730e+01 1.38335600e+00 3.17721920e+01 3.92856930e+01\n",
      " 3.19975340e+01 3.92856930e+01 1.00304110e+01 9.92481600e+00\n",
      " 1.27396720e+01 9.92481600e+00 1.13366170e+01 1.27396720e+01\n",
      " 3.48245300e+00 3.20948200e+00 3.48245300e+00 3.20948200e+00\n",
      " 2.53576500e+00 2.53576500e+00 2.06646000e-01 2.52097000e-01\n",
      " 8.97971000e-01 8.97971000e-01 9.92295100e+00 1.06233860e+01\n",
      " 7.55038800e+00 3.25685310e+01 3.68301590e+01 3.79533740e+01\n",
      " 3.27938730e+01 3.68301590e+01 7.86391000e-01 7.86391000e-01\n",
      " 2.25348900e+00 2.25348900e+00 9.12417400e+00 1.47692700e+00\n",
      " 2.06646000e-01 2.52097000e-01 7.70028900e+00 2.01425370e+01\n",
      " 1.32200150e+01 4.62789000e-01 3.19824000e-01 3.26331000e+00\n",
      " 3.40627500e+00 1.11204600e+00 3.97386900e+00 0.00000000e+00\n",
      " 3.97386900e+00 7.64906900e+00 1.42021360e+01 1.05820470e+01\n",
      " 0.00000000e+00 1.85487860e+01 1.25358230e+01 1.96720010e+01\n",
      " 2.25342000e-01 1.25358230e+01 1.85487860e+01 1.11204600e+00\n",
      " 1.85487860e+01 1.12321500e+00 1.87741280e+01 0.00000000e+00\n",
      " 5.57721120e+01 0.00000000e+00 5.57721120e+01 5.57721120e+01\n",
      " 4.57674205e+02 0.00000000e+00 4.54510000e-02 0.00000000e+00\n",
      " 1.42965000e-01 3.97386900e+00 3.97386900e+00 0.00000000e+00\n",
      " 0.00000000e+00 1.25358230e+01 1.24036750e+01 0.00000000e+00\n",
      " 8.61474900e+00 8.06318000e+01 1.04624000e-01 1.96720010e+01\n",
      " 1.12321500e+00 1.98973430e+01 1.12321500e+00 0.00000000e+00\n",
      " 0.00000000e+00 3.97386900e+00 3.97386900e+00 1.42021360e+01\n",
      " 0.00000000e+00 1.05820470e+01 1.05820470e+01 7.64906900e+00\n",
      " 1.23234930e+01 1.23234930e+01 0.00000000e+00 0.00000000e+00\n",
      " 5.57721120e+01 0.00000000e+00 1.42965000e-01 0.00000000e+00\n",
      " 4.57674205e+02 0.00000000e+00 0.00000000e+00 2.25342000e-01\n",
      " 1.87741280e+01 1.24032590e+01 1.98973430e+01 1.24032590e+01\n",
      " 1.87741280e+01 1.25358230e+01 0.00000000e+00 1.24036750e+01\n",
      " 0.00000000e+00 8.71937300e+00 8.07364240e+01 1.04624000e-01\n",
      " 1.85487860e+01 0.00000000e+00 1.12321500e+00 1.87741280e+01\n",
      " 4.54510000e-02 0.00000000e+00 1.05820470e+01 0.00000000e+00\n",
      " 3.97386900e+00 0.00000000e+00 3.97386900e+00 8.36288400e+00]\n"
     ]
    },
    {
     "name": "stderr",
     "output_type": "stream",
     "text": [
      " 78%|███████▊  | 131/169 [1:26:48<2:59:10, 282.90s/it, start=san jose, end=tebicuarym, diff=-18.5, matches=99]"
     ]
    },
    {
     "name": "stdout",
     "output_type": "stream",
     "text": [
      "1.333498 [19.80862]\n"
     ]
    },
    {
     "name": "stderr",
     "output_type": "stream",
     "text": [
      " 79%|███████▊  | 133/169 [1:27:42<1:33:19, 155.54s/it, start=san jose de los arroyos, end=coronel ovied, diff=-1.19, matches=100]"
     ]
    },
    {
     "name": "stdout",
     "output_type": "stream",
     "text": [
      "28.804871 [31.673594 30.462431 32.62336  33.300145 32.088982 34.249911 31.210805\n",
      " 29.999642 32.160571 32.862693 33.834394 38.382046 31.35377  30.142607\n",
      " 32.303536]\n"
     ]
    },
    {
     "name": "stderr",
     "output_type": "stream",
     "text": [
      " 79%|███████▉  | 134/169 [1:27:49<1:04:52, 111.20s/it, start=san juan, end=aba, diff=-16.5, matches=101]                         "
     ]
    },
    {
     "name": "stdout",
     "output_type": "stream",
     "text": [
      "8.6752167 [26.491672 25.152045]\n"
     ]
    },
    {
     "name": "stderr",
     "output_type": "stream",
     "text": [
      " 80%|███████▉  | 135/169 [1:27:50<44:12, 78.01s/it, start=san juan, end=aba, diff=-16.5, matches=101]   "
     ]
    },
    {
     "name": "stdout",
     "output_type": "stream",
     "text": [
      "Skipping san lorenzo -- acceso su, No candidate pairs. wb_len=5.7771759, diffs=[]\n"
     ]
    },
    {
     "name": "stderr",
     "output_type": "stream",
     "text": [
      " 80%|████████  | 136/169 [1:28:11<33:26, 60.81s/it, start=san lorenzo, end=capiata, diff=-.0895, matches=102]"
     ]
    },
    {
     "name": "stdout",
     "output_type": "stream",
     "text": [
      "8.9929518 [7.226    9.082417 7.897188 9.091805 3.058019 2.961409]\n"
     ]
    },
    {
     "name": "stderr",
     "output_type": "stream",
     "text": [
      " 81%|████████  | 137/169 [1:28:35<26:38, 49.95s/it, start=san lorenzo, end=nemby, diff=3.81, matches=103]    "
     ]
    },
    {
     "name": "stdout",
     "output_type": "stream",
     "text": [
      "19.946161422 [35.976573 27.598359 13.467736 13.548454 13.467736 16.137009 13.422601]\n"
     ]
    },
    {
     "name": "stderr",
     "output_type": "stream",
     "text": [
      " 82%|████████▏ | 138/169 [1:28:58<21:37, 41.84s/it, start=san lorenzo a agusto saldivar, end=ita, diff=1.04, matches=104]"
     ]
    },
    {
     "name": "stdout",
     "output_type": "stream",
     "text": [
      "24.99686 [23.952735 27.713292 23.827795 27.588352 19.08199  22.842547]\n"
     ]
    },
    {
     "name": "stderr",
     "output_type": "stream",
     "text": [
      " 82%|████████▏ | 139/169 [1:30:42<30:13, 60.45s/it, start=san miguel, end=colonia canindey, diff=-.63, matches=105]      "
     ]
    },
    {
     "name": "stdout",
     "output_type": "stream",
     "text": [
      "8.9718809 [24.472705 18.542171 12.522791 20.103161  6.230897  5.652228  6.744769\n",
      "  6.704325 24.316346 24.275902  0.881954  0.84151  16.880009 16.839565\n",
      " 22.956407 22.996851  9.601385  9.641829 24.820593 18.175487 12.691293\n",
      " 22.751245 22.791689 23.910499 23.870055 16.880009 16.839565  0.881954\n",
      "  0.84151 ]\n"
     ]
    },
    {
     "name": "stderr",
     "output_type": "stream",
     "text": [
      " 83%|████████▎ | 140/169 [1:31:32<27:43, 57.36s/it, start=san patricio, end=gral delgado, diff=0.095, matches=106] "
     ]
    },
    {
     "name": "stdout",
     "output_type": "stream",
     "text": [
      "33.407989 [34.12539  34.915831 33.312978 33.089106 33.879547 32.276694 51.588624\n",
      " 51.510616 39.047335 39.837776 38.234923 30.420012 35.745631 31.232424]\n"
     ]
    },
    {
     "name": "stderr",
     "output_type": "stream",
     "text": [
      " 83%|████████▎ | 141/169 [1:32:13<24:29, 52.50s/it, start=san pedro, end=nueva germani, diff=0.296, matches=107]  "
     ]
    },
    {
     "name": "stdout",
     "output_type": "stream",
     "text": [
      "48.606701 [68.382973 62.8154   64.915658 96.458602 89.262472 62.8154   64.915658\n",
      " 50.7229   57.913851 48.310872 51.475693]\n"
     ]
    },
    {
     "name": "stderr",
     "output_type": "stream",
     "text": [
      " 84%|████████▍ | 142/169 [1:32:32<19:01, 42.27s/it, start=san pedro, end=san solan, diff=-12.2, matches=108]    "
     ]
    },
    {
     "name": "stdout",
     "output_type": "stream",
     "text": [
      "6.076632 [19.331115 18.318026 24.188836 31.284176 30.416175]\n"
     ]
    },
    {
     "name": "stderr",
     "output_type": "stream",
     "text": [
      " 85%|████████▍ | 143/169 [1:33:01<16:34, 38.25s/it, start=san pedro del parana, end=la pa, diff=-.278, matches=109]"
     ]
    },
    {
     "name": "stdout",
     "output_type": "stream",
     "text": [
      "3.097405 [46.238766  3.375015  3.469489  0.642818  3.960121  4.054595 16.620096\n",
      " 15.033031]\n"
     ]
    },
    {
     "name": "stderr",
     "output_type": "stream",
     "text": [
      " 85%|████████▌ | 144/169 [1:33:47<16:58, 40.74s/it, start=san roque gonzalez, end=quiind, diff=-1.63, matches=110] "
     ]
    },
    {
     "name": "stdout",
     "output_type": "stream",
     "text": [
      "10.74067 [22.015527 12.371076 28.149492 19.889148 48.312927 48.312927 23.181639\n",
      " 13.537188 29.315604 21.05526  13.026511 13.026511]\n"
     ]
    },
    {
     "name": "stderr",
     "output_type": "stream",
     "text": [
      " 86%|████████▌ | 145/169 [1:33:58<12:44, 31.84s/it, start=san solano, end=caraguata, diff=2.9, matches=111]       "
     ]
    },
    {
     "name": "stdout",
     "output_type": "stream",
     "text": [
      "15.64962 [12.748522 30.03165  29.163649]\n"
     ]
    },
    {
     "name": "stderr",
     "output_type": "stream",
     "text": [
      " 86%|████████▋ | 146/169 [1:34:09<09:49, 25.63s/it, start=san solano, end=fleitas cu, diff=-10.2, matches=112]"
     ]
    },
    {
     "name": "stdout",
     "output_type": "stream",
     "text": [
      "17.50205 [27.662935 44.946063 44.078062]\n"
     ]
    },
    {
     "name": "stderr",
     "output_type": "stream",
     "text": [
      " 87%|████████▋ | 147/169 [1:34:51<11:11, 30.53s/it, start=santa rosa, end=san patrici, diff=-.291, matches=113]"
     ]
    },
    {
     "name": "stdout",
     "output_type": "stream",
     "text": [
      "10.46233 [11.095668 12.131952 11.464768 12.501052 10.753377 16.287688 17.323972\n",
      " 48.084027 19.893928 18.298114 10.879419 19.77753 ]\n"
     ]
    },
    {
     "name": "stderr",
     "output_type": "stream",
     "text": [
      " 88%|████████▊ | 148/169 [1:34:52<07:36, 21.71s/it, start=santa rosa, end=san patrici, diff=-.291, matches=113]"
     ]
    },
    {
     "name": "stdout",
     "output_type": "stream",
     "text": [
      "Skipping santiago -- acceso brazo anacu, No candidate pairs. wb_len=8.1448412, diffs=[]\n"
     ]
    },
    {
     "name": "stderr",
     "output_type": "stream",
     "text": [
      " 88%|████████▊ | 149/169 [1:34:54<05:11, 15.57s/it, start=santa rosa, end=san patrici, diff=-.291, matches=113]"
     ]
    },
    {
     "name": "stdout",
     "output_type": "stream",
     "text": [
      "Skipping sapucai -- chauri, No candidate pairs. wb_len=0.25058761, diffs=[]\n"
     ]
    },
    {
     "name": "stderr",
     "output_type": "stream",
     "text": [
      " 89%|████████▉ | 150/169 [1:35:16<05:32, 17.52s/it, start=sapucai, end=chirca, diff=-3.46, matches=114]        "
     ]
    },
    {
     "name": "stdout",
     "output_type": "stream",
     "text": [
      "9.8379107 [17.433433 18.725305 13.30008  14.591952 14.072768 15.36464 ]\n"
     ]
    },
    {
     "name": "stderr",
     "output_type": "stream",
     "text": [
      " 89%|████████▉ | 151/169 [1:35:31<05:02, 16.81s/it, start=simon bolivar, end=cecilio bae, diff=-.183, matches=115]"
     ]
    },
    {
     "name": "stdout",
     "output_type": "stream",
     "text": [
      "9.4112453 [ 9.594414 10.17441  12.967577 13.547573]\n"
     ]
    },
    {
     "name": "stderr",
     "output_type": "stream",
     "text": [
      " 90%|████████▉ | 152/169 [1:36:07<06:23, 22.58s/it, start=sta catalina, end=aleman cu, diff=-6.26, matches=116]   "
     ]
    },
    {
     "name": "stdout",
     "output_type": "stream",
     "text": [
      "17.10784 [ 36.310188  39.002576  25.460881  23.366077  29.501868  53.526876\n",
      "  29.501868 364.854485  53.78056 ]\n"
     ]
    },
    {
     "name": "stderr",
     "output_type": "stream",
     "text": [
      " 91%|█████████ | 153/169 [1:36:08<04:17, 16.12s/it, start=sta catalina, end=aleman cu, diff=-6.26, matches=116]"
     ]
    },
    {
     "name": "stdout",
     "output_type": "stream",
     "text": [
      "Skipping super carretera -- a piri pyt, No candidate pairs. wb_len=7.1127481, diffs=[]\n"
     ]
    },
    {
     "name": "stderr",
     "output_type": "stream",
     "text": [
      " 91%|█████████ | 154/169 [1:36:16<03:24, 13.66s/it, start=super carretera, end=itakyr, diff=-26.8, matches=117]"
     ]
    },
    {
     "name": "stdout",
     "output_type": "stream",
     "text": [
      "28.48221 [55.288297 77.042614]\n"
     ]
    },
    {
     "name": "stderr",
     "output_type": "stream",
     "text": [
      " 91%|█████████ | 154/169 [1:36:24<03:24, 13.66s/it, start=tobati, end=1ro de marz, diff=-1.19, matches=118]    "
     ]
    },
    {
     "name": "stdout",
     "output_type": "stream",
     "text": [
      "24.2008 [25.388718 31.077164]\n"
     ]
    },
    {
     "name": "stderr",
     "output_type": "stream",
     "text": [
      " 92%|█████████▏| 156/169 [1:36:47<03:16, 15.12s/it, start=tobati, end=arroyos y estero, diff=-.0619, matches=119]"
     ]
    },
    {
     "name": "stdout",
     "output_type": "stream",
     "text": [
      "24.97084 [25.032718 30.090414 25.333028 27.61941  36.217006 27.208589]\n"
     ]
    },
    {
     "name": "stderr",
     "output_type": "stream",
     "text": [
      " 93%|█████████▎| 157/169 [1:38:57<09:56, 49.73s/it, start=tomas romero pereira, end=santa rita, diff=2.16, matches=120]"
     ]
    },
    {
     "name": "stdout",
     "output_type": "stream",
     "text": [
      "86.597617 [439.73287  438.816246 437.119027 121.235169 120.104978 110.695527\n",
      " 109.262977 109.262977  92.877943  98.776759 111.223762 110.093571\n",
      " 102.258503 114.799819 114.799819  84.440919  90.339735 418.748742\n",
      " 417.832118 173.816286 173.646007 416.134899 411.406746]\n"
     ]
    },
    {
     "name": "stderr",
     "output_type": "stream",
     "text": [
      " 93%|█████████▎| 158/169 [1:39:13<07:14, 39.48s/it, start=troche, end=navill, diff=-10.8, matches=121]                 "
     ]
    },
    {
     "name": "stdout",
     "output_type": "stream",
     "text": [
      "17.82991 [32.37392  33.041962 28.668224 28.668224]\n"
     ]
    },
    {
     "name": "stderr",
     "output_type": "stream",
     "text": [
      " 94%|█████████▍| 159/169 [1:40:11<07:30, 45.04s/it, start=villa florida, end=san ignacio, diff=-5.99, matches=122]"
     ]
    },
    {
     "name": "stdout",
     "output_type": "stream",
     "text": [
      "68.52962409999999 [ 95.389635  91.012564 112.308219  84.631924  84.631924  91.879667\n",
      "  84.425974  90.768388  92.300535  84.846842  81.472702 130.352076\n",
      "  79.097238  74.521327]\n"
     ]
    },
    {
     "name": "stderr",
     "output_type": "stream",
     "text": [
      " 95%|█████████▍| 160/169 [1:40:23<05:16, 35.13s/it, start=villa hayes, end=benjamin aceva, diff=3.12, matches=123]"
     ]
    },
    {
     "name": "stdout",
     "output_type": "stream",
     "text": [
      "17.00536 [13.887877 40.517159 11.823093]\n"
     ]
    },
    {
     "name": "stderr",
     "output_type": "stream",
     "text": [
      " 95%|█████████▍| 160/169 [1:40:57<05:16, 35.13s/it, start=villarrica, end=num, diff=-1.86, matches=124]           "
     ]
    },
    {
     "name": "stdout",
     "output_type": "stream",
     "text": [
      "25.61474 [27.47971  27.546206 32.974238 29.258817 29.325313 35.157713 42.739512\n",
      " 56.653094 38.151249]\n"
     ]
    },
    {
     "name": "stderr",
     "output_type": "stream",
     "text": [
      " 96%|█████████▌| 162/169 [1:41:42<04:25, 37.99s/it, start=yaguaron, end=paraguar, diff=-.525, matches=125]"
     ]
    },
    {
     "name": "stdout",
     "output_type": "stream",
     "text": [
      "13.93696 [34.177111 32.522485 38.317432 16.700129 17.291386 22.63419  14.620908\n",
      " 15.212165 20.554969 14.462043 15.659441 20.952429]\n"
     ]
    },
    {
     "name": "stderr",
     "output_type": "stream",
     "text": [
      " 96%|█████████▋| 163/169 [1:42:47<04:35, 45.93s/it, start=yaguaron, end=piray, diff=-.482, matches=126]   "
     ]
    },
    {
     "name": "stdout",
     "output_type": "stream",
     "text": [
      "10.26811 [49.777873 52.122249 45.345869 10.750522 11.71549  13.094898  7.084345\n",
      " 12.153599 13.118567 14.497975  8.487422  4.452286  5.417254  6.796662\n",
      "  8.81671  25.122001 20.46719  25.769155]\n"
     ]
    },
    {
     "name": "stderr",
     "output_type": "stream",
     "text": [
      " 97%|█████████▋| 164/169 [1:43:00<02:59, 35.97s/it, start=ybyraty, end=pilar, diff=-14.8, matches=127] "
     ]
    },
    {
     "name": "stdout",
     "output_type": "stream",
     "text": [
      "86.7027478 [103.826191 103.826191 101.474464]\n"
     ]
    },
    {
     "name": "stderr",
     "output_type": "stream",
     "text": [
      " 98%|█████████▊| 165/169 [1:43:23<02:08, 32.07s/it, start=ypacarai, end=caacupe, diff=0.435, matches=128]"
     ]
    },
    {
     "name": "stdout",
     "output_type": "stream",
     "text": [
      "16.198262800000002 [17.670804 19.458936 13.975285 15.763417 28.167772 29.955904]\n"
     ]
    },
    {
     "name": "stderr",
     "output_type": "stream",
     "text": [
      " 98%|█████████▊| 166/169 [1:44:16<01:55, 38.41s/it, start=ypacaray, end=pirayu, diff=1.05, matches=129]  "
     ]
    },
    {
     "name": "stdout",
     "output_type": "stream",
     "text": [
      "12.620605 [11.153406 10.188438 13.707606 11.566805 14.664012 13.699044 17.218212\n",
      "  7.871286 37.792066 33.137255 38.43922  23.151328 22.18636  25.705528\n",
      " 21.996073]\n"
     ]
    },
    {
     "name": "stderr",
     "output_type": "stream",
     "text": [
      " 99%|█████████▉| 167/169 [1:44:45<01:11, 35.63s/it, start=ypane, end=desv guarambar, diff=-3.43, matches=130]"
     ]
    },
    {
     "name": "stdout",
     "output_type": "stream",
     "text": [
      "0.66352731 [6.729177 7.170216 6.694559 7.135598 4.094248 4.535287 8.601513 9.042552]\n"
     ]
    },
    {
     "name": "stderr",
     "output_type": "stream",
     "text": [
      " 99%|█████████▉| 168/169 [1:44:46<00:25, 25.29s/it, start=ypane, end=desv guarambar, diff=-3.43, matches=130]"
     ]
    },
    {
     "name": "stdout",
     "output_type": "stream",
     "text": [
      "Skipping ytororo -- cervepa, No candidate pairs. wb_len=1.6831909, diffs=[]\n"
     ]
    },
    {
     "name": "stderr",
     "output_type": "stream",
     "text": [
      "100%|██████████| 169/169 [1:45:50<00:00, 36.80s/it, start=ytororo, end=ypan, diff=0.0542, matches=131]       "
     ]
    },
    {
     "name": "stdout",
     "output_type": "stream",
     "text": [
      "3.657007 [35.527235 34.719436  4.239053  4.331988  6.873982  2.292609 32.019146\n",
      " 31.211347  3.428648  3.602787  6.063577  2.330704  3.295584  3.469723\n",
      "  5.930513  2.19764  34.128444 33.320645]\n"
     ]
    },
    {
     "name": "stderr",
     "output_type": "stream",
     "text": [
      "100%|██████████| 169/169 [1:45:50<00:00, 37.57s/it, start=ytororo, end=ypan, diff=0.0542, matches=131]\n"
     ]
    }
   ],
   "source": [
    "matches = []\n",
    "with tqdm(df.itertuples(), total=len(df)) as bar:\n",
    "    for i, row in enumerate(bar):\n",
    "        wb_length = float(row.length)\n",
    "        p1_name = row.endpoint_1\n",
    "        p2_name = row.endpoint_2\n",
    "        \n",
    "        info = match(p1_name, p2_name, wb_length)\n",
    "        if info.get('route') is None:\n",
    "            continue\n",
    "        matches.append(info)\n",
    "    \n",
    "        bar.set_postfix({\n",
    "            'start': p1_name,\n",
    "            'end': p2_name,\n",
    "            'diff': info['diff'],\n",
    "            'matches': len(matches)\n",
    "        })\n",
    "        gc.collect()"
   ]
  },
  {
   "cell_type": "code",
   "execution_count": 216,
   "metadata": {},
   "outputs": [],
   "source": [
    "# with open('matches_20210607.pkl', 'rb') as f:\n",
    "#     matches = pickle.load(f)"
   ]
  },
  {
   "cell_type": "code",
   "execution_count": 44,
   "metadata": {},
   "outputs": [],
   "source": [
    "diffs = np.array([m['diff'] for m in matches if abs(m['diff']) < np.inf])\n",
    "abs_diffs = np.abs(diffs)\n",
    "rel_errs = np.array([m['rel_error'] for m in matches if abs(m['diff']) < np.inf])"
   ]
  },
  {
   "cell_type": "code",
   "execution_count": 45,
   "metadata": {},
   "outputs": [
    {
     "data": {
      "text/plain": [
       "(102, 0.6035502958579881)"
      ]
     },
     "execution_count": 45,
     "metadata": {},
     "output_type": "execute_result"
    }
   ],
   "source": [
    "nmatched = (abs_diffs <= 5).sum()\n",
    "nmatched, nmatched / len(df)"
   ]
  },
  {
   "cell_type": "code",
   "execution_count": 47,
   "metadata": {},
   "outputs": [
    {
     "data": {
      "text/plain": [
       "(89, 0.5266272189349113)"
      ]
     },
     "execution_count": 47,
     "metadata": {},
     "output_type": "execute_result"
    }
   ],
   "source": [
    "nmatched = (rel_errs <= .2).sum()\n",
    "nmatched, nmatched / len(df)"
   ]
  },
  {
   "cell_type": "code",
   "execution_count": 48,
   "metadata": {
    "tags": []
   },
   "outputs": [
    {
     "data": {
      "image/png": "[encoded data removed]",
      "text/plain": [
       "<Figure size 640x480 with 1 Axes>"
      ]
     },
     "metadata": {},
     "output_type": "display_data"
    }
   ],
   "source": [
    "sorted_diffs = np.arange(100)\n",
    "frac = np.array([(abs_diffs < d).sum() for d in sorted_diffs]) / len(df)\n",
    "plt.plot(sorted_diffs, frac, linewidth=2)\n",
    "\n",
    "for d in [5, 10, 20]:\n",
    "    first_line = LineString(np.column_stack((sorted_diffs, frac)))\n",
    "    second_line = LineString([(d, 0), (d, 1)])\n",
    "    intersection = first_line.intersection(second_line)\n",
    "\n",
    "    if intersection.geom_type == 'MultiPoint':\n",
    "        intersection_x, intersection_y = np.array(LineString(intersection).xy)\n",
    "    elif intersection.geom_type == 'Point':\n",
    "        intersection_x, intersection_y = np.array(intersection.xy)\n",
    "\n",
    "    plt.vlines(x=intersection_x, ymin=0, ymax=intersection_y, linestyle='--', alpha=0.5)\n",
    "    plt.hlines(y=intersection_y, xmin=0, xmax=intersection_x, linestyle='--', alpha=0.5)\n",
    "    plt.scatter(intersection_x, intersection_y, s=16, c='red', zorder=10)\n",
    "    plt.annotate(f'{int(intersection_y*len(df))}', \n",
    "                 (intersection_x, intersection_y), \n",
    "                 (8, -10), \n",
    "                 textcoords='offset points',\n",
    "                 alpha=0.8)\n",
    "\n",
    "plt.xlim((0, 50))\n",
    "\n",
    "plt.yticks(np.arange(0, 1.1, .1))\n",
    "locs, _ = plt.xticks()\n",
    "locs = np.array(locs, dtype=int).tolist() + [5, 10]\n",
    "plt.xticks(locs, locs)\n",
    "\n",
    "plt.ylabel('Density')\n",
    "plt.xlabel('Abs. diff b/w WB length and computed length (KM)')\n",
    "plt.title('Abs. diff CDF')\n",
    "plt.show()"
   ]
  },
  {
   "cell_type": "code",
   "execution_count": 49,
   "metadata": {},
   "outputs": [
    {
     "data": {
      "image/png": "[encoded data removed]",
      "text/plain": [
       "<Figure size 640x480 with 1 Axes>"
      ]
     },
     "metadata": {},
     "output_type": "display_data"
    }
   ],
   "source": [
    "plt.hist(diffs, bins=50)\n",
    "plt.xlabel('WB length minus computed length (KM)')\n",
    "plt.ylabel('Count')\n",
    "plt.show()"
   ]
  },
  {
   "cell_type": "code",
   "execution_count": 50,
   "metadata": {},
   "outputs": [
    {
     "data": {
      "image/png": "[encoded data removed]",
      "text/plain": [
       "<Figure size 640x480 with 1 Axes>"
      ]
     },
     "metadata": {},
     "output_type": "display_data"
    }
   ],
   "source": [
    "plt.hist(rel_errs[rel_errs < np.inf]*100, bins=50)\n",
    "plt.xlabel('Relative error (%)')\n",
    "plt.ylabel('Count')\n",
    "plt.show()"
   ]
  },
  {
   "cell_type": "code",
   "execution_count": 51,
   "metadata": {},
   "outputs": [
    {
     "data": {
      "image/png": "[encoded data removed]",
      "text/plain": [
       "<Figure size 640x480 with 1 Axes>"
      ]
     },
     "metadata": {},
     "output_type": "display_data"
    }
   ],
   "source": [
    "plt.scatter([m['wb_length'] for m in matches], [m['length'] for m in matches], s=16)\n",
    "plt.xlabel('Length in WB data (KM)')\n",
    "plt.ylabel('Length of computed route (KM)')\n",
    "plt.show()"
   ]
  },
  {
   "cell_type": "code",
   "execution_count": 52,
   "metadata": {},
   "outputs": [
    {
     "data": {
      "image/png": "[encoded data removed]",
      "text/plain": [
       "<Figure size 640x480 with 1 Axes>"
      ]
     },
     "metadata": {},
     "output_type": "display_data"
    }
   ],
   "source": [
    "plt.scatter([m['wb_length'] for m in matches], [abs(m['diff']) for m in matches])\n",
    "plt.xlabel('Length in WB data (KM)')\n",
    "plt.ylabel('Abs. diff (KM)')\n",
    "plt.show()"
   ]
  },
  {
   "cell_type": "code",
   "execution_count": 53,
   "metadata": {},
   "outputs": [
    {
     "data": {
      "image/png": "[encoded data removed]",
      "text/plain": [
       "<Figure size 640x480 with 1 Axes>"
      ]
     },
     "metadata": {},
     "output_type": "display_data"
    }
   ],
   "source": [
    "plt.scatter([m['wb_length'] for m in matches], [m['straight_line_dist'] for m in matches])\n",
    "plt.xlabel('Length in WB data (KM)')\n",
    "plt.ylabel('Straight line distance (KM)')\n",
    "plt.show()"
   ]
  },
  {
   "cell_type": "markdown",
   "metadata": {},
   "source": [
    "## Save matched routes"
   ]
  },
  {
   "cell_type": "code",
   "execution_count": 54,
   "metadata": {},
   "outputs": [],
   "source": [
    "with open('matches_20210610.pkl', 'wb') as f:\n",
    "    pickle.dump(matches, f)"
   ]
  },
  {
   "cell_type": "code",
   "execution_count": 79,
   "metadata": {},
   "outputs": [
    {
     "data": {
      "text/html": [
       "<div>\n",
       "<style scoped>\n",
       "    .dataframe tbody tr th:only-of-type {\n",
       "        vertical-align: middle;\n",
       "    }\n",
       "\n",
       "    .dataframe tbody tr th {\n",
       "        vertical-align: top;\n",
       "    }\n",
       "\n",
       "    .dataframe thead th {\n",
       "        text-align: right;\n",
       "    }\n",
       "</style>\n",
       "<table border=\"1\" class=\"dataframe\">\n",
       "  <thead>\n",
       "    <tr style=\"text-align: right;\">\n",
       "      <th></th>\n",
       "      <th>p1_name</th>\n",
       "      <th>p2_name</th>\n",
       "      <th>wb_length</th>\n",
       "      <th>route</th>\n",
       "      <th>start_node</th>\n",
       "      <th>end_node</th>\n",
       "      <th>length</th>\n",
       "      <th>p1</th>\n",
       "      <th>p2</th>\n",
       "      <th>straight_line_dist</th>\n",
       "      <th>diff</th>\n",
       "      <th>abs_diff</th>\n",
       "      <th>rel_error</th>\n",
       "      <th>endpoint_1</th>\n",
       "      <th>endpoint_2</th>\n",
       "      <th>roughness</th>\n",
       "    </tr>\n",
       "  </thead>\n",
       "  <tbody>\n",
       "    <tr>\n",
       "      <th>0</th>\n",
       "      <td>alto vera</td>\n",
       "      <td>karona</td>\n",
       "      <td>2.511536</td>\n",
       "      <td>[1721615670, 1721610192, 1721610237, 172161008...</td>\n",
       "      <td>1721615670</td>\n",
       "      <td>1721640796</td>\n",
       "      <td>0.455322</td>\n",
       "      <td>POINT (-55.76828 -26.75291)</td>\n",
       "      <td>POINT (-55.76427 -26.75526)</td>\n",
       "      <td>0.476338</td>\n",
       "      <td>2.056214</td>\n",
       "      <td>2.056214</td>\n",
       "      <td>0.818708</td>\n",
       "      <td>alto vera</td>\n",
       "      <td>karona</td>\n",
       "      <td>5.0</td>\n",
       "    </tr>\n",
       "    <tr>\n",
       "      <th>1</th>\n",
       "      <td>alto vera</td>\n",
       "      <td>ynamb</td>\n",
       "      <td>10.679650</td>\n",
       "      <td>[4961815462, 4961815461, 4961815460, 496181545...</td>\n",
       "      <td>4961815462</td>\n",
       "      <td>4962604343</td>\n",
       "      <td>13.762351</td>\n",
       "      <td>POINT (-55.74206 -26.5883)</td>\n",
       "      <td>POINT (-55.69932 -26.69366)</td>\n",
       "      <td>12.425141</td>\n",
       "      <td>-3.082701</td>\n",
       "      <td>3.082701</td>\n",
       "      <td>0.288652</td>\n",
       "      <td>alto vera</td>\n",
       "      <td>ynamb</td>\n",
       "      <td>5.0</td>\n",
       "    </tr>\n",
       "    <tr>\n",
       "      <th>2</th>\n",
       "      <td>altos</td>\n",
       "      <td>atyr</td>\n",
       "      <td>9.380511</td>\n",
       "      <td>[4128334193, 4128334192, 4128334235, 412833419...</td>\n",
       "      <td>4128334193</td>\n",
       "      <td>1762333956</td>\n",
       "      <td>8.816331</td>\n",
       "      <td>POINT (-57.1619 -25.1935)</td>\n",
       "      <td>POINT (-57.15459 -25.25993)</td>\n",
       "      <td>7.395640</td>\n",
       "      <td>0.564180</td>\n",
       "      <td>0.564180</td>\n",
       "      <td>0.060144</td>\n",
       "      <td>altos</td>\n",
       "      <td>atyr</td>\n",
       "      <td>5.0</td>\n",
       "    </tr>\n",
       "    <tr>\n",
       "      <th>3</th>\n",
       "      <td>aregua</td>\n",
       "      <td>isla vall</td>\n",
       "      <td>4.373238</td>\n",
       "      <td>[859230941, 1763035669, 2721971075, 1763032569...</td>\n",
       "      <td>859230941</td>\n",
       "      <td>2839928325</td>\n",
       "      <td>3.851713</td>\n",
       "      <td>POINT (-57.38472 -25.3125)</td>\n",
       "      <td>POINT (-57.37135 -25.2663)</td>\n",
       "      <td>5.292079</td>\n",
       "      <td>0.521525</td>\n",
       "      <td>0.521525</td>\n",
       "      <td>0.119254</td>\n",
       "      <td>aregua</td>\n",
       "      <td>isla vall</td>\n",
       "      <td>3.0</td>\n",
       "    </tr>\n",
       "    <tr>\n",
       "      <th>4</th>\n",
       "      <td>aregua</td>\n",
       "      <td>patin</td>\n",
       "      <td>6.555620</td>\n",
       "      <td>[859230941, 1763095825, 1763037999, 859230920,...</td>\n",
       "      <td>859230941</td>\n",
       "      <td>1763421574</td>\n",
       "      <td>6.422825</td>\n",
       "      <td>POINT (-57.38472 -25.3125)</td>\n",
       "      <td>POINT (-57.35569 -25.35043)</td>\n",
       "      <td>5.118316</td>\n",
       "      <td>0.132795</td>\n",
       "      <td>0.132795</td>\n",
       "      <td>0.020257</td>\n",
       "      <td>aregua</td>\n",
       "      <td>patin</td>\n",
       "      <td>3.0</td>\n",
       "    </tr>\n",
       "    <tr>\n",
       "      <th>...</th>\n",
       "      <td>...</td>\n",
       "      <td>...</td>\n",
       "      <td>...</td>\n",
       "      <td>...</td>\n",
       "      <td>...</td>\n",
       "      <td>...</td>\n",
       "      <td>...</td>\n",
       "      <td>...</td>\n",
       "      <td>...</td>\n",
       "      <td>...</td>\n",
       "      <td>...</td>\n",
       "      <td>...</td>\n",
       "      <td>...</td>\n",
       "      <td>...</td>\n",
       "      <td>...</td>\n",
       "      <td>...</td>\n",
       "    </tr>\n",
       "    <tr>\n",
       "      <th>126</th>\n",
       "      <td>ybyraty</td>\n",
       "      <td>pilar</td>\n",
       "      <td>86.702748</td>\n",
       "      <td>[2387517709, 2387517714, 2387517715, 238751771...</td>\n",
       "      <td>2387517709</td>\n",
       "      <td>2642192694</td>\n",
       "      <td>101.474464</td>\n",
       "      <td>POINT (-57.55 -26.66667)</td>\n",
       "      <td>POINT (-58.30639 -26.85874)</td>\n",
       "      <td>78.184234</td>\n",
       "      <td>-14.771716</td>\n",
       "      <td>14.771716</td>\n",
       "      <td>0.170372</td>\n",
       "      <td>ybyraty</td>\n",
       "      <td>pilar</td>\n",
       "      <td>1.9</td>\n",
       "    </tr>\n",
       "    <tr>\n",
       "      <th>127</th>\n",
       "      <td>ypacarai</td>\n",
       "      <td>caacupe</td>\n",
       "      <td>16.198263</td>\n",
       "      <td>[5673585633, 1874856364, 1874856362, 567356090...</td>\n",
       "      <td>5673585633</td>\n",
       "      <td>1761956483</td>\n",
       "      <td>15.763417</td>\n",
       "      <td>POINT (-57.26419 -25.39331)</td>\n",
       "      <td>POINT (-57.12673 -25.38041)</td>\n",
       "      <td>13.906454</td>\n",
       "      <td>0.434846</td>\n",
       "      <td>0.434846</td>\n",
       "      <td>0.026845</td>\n",
       "      <td>ypacarai</td>\n",
       "      <td>caacupe</td>\n",
       "      <td>3.8</td>\n",
       "    </tr>\n",
       "    <tr>\n",
       "      <th>128</th>\n",
       "      <td>ypacaray</td>\n",
       "      <td>pirayu</td>\n",
       "      <td>12.620605</td>\n",
       "      <td>[2841236580, 2841236591, 1464815005, 176101262...</td>\n",
       "      <td>2841236580</td>\n",
       "      <td>1761236189</td>\n",
       "      <td>11.566805</td>\n",
       "      <td>POINT (-57.28889 -25.40777)</td>\n",
       "      <td>POINT (-57.2541 -25.33354)</td>\n",
       "      <td>8.937517</td>\n",
       "      <td>1.053800</td>\n",
       "      <td>1.053800</td>\n",
       "      <td>0.083498</td>\n",
       "      <td>ypacaray</td>\n",
       "      <td>pirayu</td>\n",
       "      <td>5.0</td>\n",
       "    </tr>\n",
       "    <tr>\n",
       "      <th>129</th>\n",
       "      <td>ypane</td>\n",
       "      <td>desv guarambar</td>\n",
       "      <td>0.663527</td>\n",
       "      <td>[6574911907, 2645535678, 2645535697, 264553568...</td>\n",
       "      <td>6574911907</td>\n",
       "      <td>380642082</td>\n",
       "      <td>4.094248</td>\n",
       "      <td>POINT (-57.48294 -25.46404)</td>\n",
       "      <td>POINT (-57.45567 -25.49096)</td>\n",
       "      <td>4.051300</td>\n",
       "      <td>-3.430721</td>\n",
       "      <td>3.430721</td>\n",
       "      <td>5.170429</td>\n",
       "      <td>ypane</td>\n",
       "      <td>desv guarambar</td>\n",
       "      <td>5.0</td>\n",
       "    </tr>\n",
       "    <tr>\n",
       "      <th>130</th>\n",
       "      <td>ytororo</td>\n",
       "      <td>ypan</td>\n",
       "      <td>3.657007</td>\n",
       "      <td>[1783419751, 2837409062, 319476543, 2837409046...</td>\n",
       "      <td>1783419751</td>\n",
       "      <td>1783382984</td>\n",
       "      <td>3.602787</td>\n",
       "      <td>POINT (-57.53456 -25.44879)</td>\n",
       "      <td>POINT (-57.50929 -25.4604)</td>\n",
       "      <td>2.848443</td>\n",
       "      <td>0.054220</td>\n",
       "      <td>0.054220</td>\n",
       "      <td>0.014826</td>\n",
       "      <td>ytororo</td>\n",
       "      <td>ypan</td>\n",
       "      <td>5.0</td>\n",
       "    </tr>\n",
       "  </tbody>\n",
       "</table>\n",
       "<p>131 rows × 16 columns</p>\n",
       "</div>"
      ],
      "text/plain": [
       "       p1_name         p2_name  wb_length  \\\n",
       "0    alto vera          karona   2.511536   \n",
       "1    alto vera           ynamb  10.679650   \n",
       "2        altos            atyr   9.380511   \n",
       "3       aregua       isla vall   4.373238   \n",
       "4       aregua           patin   6.555620   \n",
       "..         ...             ...        ...   \n",
       "126    ybyraty           pilar  86.702748   \n",
       "127   ypacarai         caacupe  16.198263   \n",
       "128   ypacaray          pirayu  12.620605   \n",
       "129      ypane  desv guarambar   0.663527   \n",
       "130    ytororo            ypan   3.657007   \n",
       "\n",
       "                                                 route  start_node  \\\n",
       "0    [1721615670, 1721610192, 1721610237, 172161008...  1721615670   \n",
       "1    [4961815462, 4961815461, 4961815460, 496181545...  4961815462   \n",
       "2    [4128334193, 4128334192, 4128334235, 412833419...  4128334193   \n",
       "3    [859230941, 1763035669, 2721971075, 1763032569...   859230941   \n",
       "4    [859230941, 1763095825, 1763037999, 859230920,...   859230941   \n",
       "..                                                 ...         ...   \n",
       "126  [2387517709, 2387517714, 2387517715, 238751771...  2387517709   \n",
       "127  [5673585633, 1874856364, 1874856362, 567356090...  5673585633   \n",
       "128  [2841236580, 2841236591, 1464815005, 176101262...  2841236580   \n",
       "129  [6574911907, 2645535678, 2645535697, 264553568...  6574911907   \n",
       "130  [1783419751, 2837409062, 319476543, 2837409046...  1783419751   \n",
       "\n",
       "       end_node      length                           p1  \\\n",
       "0    1721640796    0.455322  POINT (-55.76828 -26.75291)   \n",
       "1    4962604343   13.762351   POINT (-55.74206 -26.5883)   \n",
       "2    1762333956    8.816331    POINT (-57.1619 -25.1935)   \n",
       "3    2839928325    3.851713   POINT (-57.38472 -25.3125)   \n",
       "4    1763421574    6.422825   POINT (-57.38472 -25.3125)   \n",
       "..          ...         ...                          ...   \n",
       "126  2642192694  101.474464     POINT (-57.55 -26.66667)   \n",
       "127  1761956483   15.763417  POINT (-57.26419 -25.39331)   \n",
       "128  1761236189   11.566805  POINT (-57.28889 -25.40777)   \n",
       "129   380642082    4.094248  POINT (-57.48294 -25.46404)   \n",
       "130  1783382984    3.602787  POINT (-57.53456 -25.44879)   \n",
       "\n",
       "                              p2  straight_line_dist       diff   abs_diff  \\\n",
       "0    POINT (-55.76427 -26.75526)            0.476338   2.056214   2.056214   \n",
       "1    POINT (-55.69932 -26.69366)           12.425141  -3.082701   3.082701   \n",
       "2    POINT (-57.15459 -25.25993)            7.395640   0.564180   0.564180   \n",
       "3     POINT (-57.37135 -25.2663)            5.292079   0.521525   0.521525   \n",
       "4    POINT (-57.35569 -25.35043)            5.118316   0.132795   0.132795   \n",
       "..                           ...                 ...        ...        ...   \n",
       "126  POINT (-58.30639 -26.85874)           78.184234 -14.771716  14.771716   \n",
       "127  POINT (-57.12673 -25.38041)           13.906454   0.434846   0.434846   \n",
       "128   POINT (-57.2541 -25.33354)            8.937517   1.053800   1.053800   \n",
       "129  POINT (-57.45567 -25.49096)            4.051300  -3.430721   3.430721   \n",
       "130   POINT (-57.50929 -25.4604)            2.848443   0.054220   0.054220   \n",
       "\n",
       "     rel_error endpoint_1      endpoint_2  roughness  \n",
       "0     0.818708  alto vera          karona        5.0  \n",
       "1     0.288652  alto vera           ynamb        5.0  \n",
       "2     0.060144      altos            atyr        5.0  \n",
       "3     0.119254     aregua       isla vall        3.0  \n",
       "4     0.020257     aregua           patin        3.0  \n",
       "..         ...        ...             ...        ...  \n",
       "126   0.170372    ybyraty           pilar        1.9  \n",
       "127   0.026845   ypacarai         caacupe        3.8  \n",
       "128   0.083498   ypacaray          pirayu        5.0  \n",
       "129   5.170429      ypane  desv guarambar        5.0  \n",
       "130   0.014826    ytororo            ypan        5.0  \n",
       "\n",
       "[131 rows x 16 columns]"
      ]
     },
     "execution_count": 79,
     "metadata": {},
     "output_type": "execute_result"
    }
   ],
   "source": [
    "matches_df = pd.DataFrame.from_records(matches)\n",
    "matches_df = pd.merge(\n",
    "    matches_df, \n",
    "    df[['endpoint_1', 'endpoint_2', 'roughness']], \n",
    "    how='left', \n",
    "    left_on=['p1_name', 'p2_name'], \n",
    "    right_on=['endpoint_1', 'endpoint_2'])\n",
    "matches_df"
   ]
  },
  {
   "cell_type": "code",
   "execution_count": 80,
   "metadata": {},
   "outputs": [],
   "source": [
    "matches_df.to_csv('matches_20210610.csv')"
   ]
  },
  {
   "cell_type": "code",
   "execution_count": 58,
   "metadata": {},
   "outputs": [],
   "source": [
    "nodes, edges = ox.graph_to_gdfs(nx.MultiDiGraph(G))"
   ]
  },
  {
   "cell_type": "code",
   "execution_count": 59,
   "metadata": {},
   "outputs": [],
   "source": [
    "def edges_to_geojson(edge_infos):\n",
    "    features = []\n",
    "    for info in edge_infos:\n",
    "        f = {\n",
    "            'type': 'Feature',\n",
    "            'geometry': mapping(info['geometry']),\n",
    "            'properties': {k: v for (k, v) in info.items() if k not in ['geometry']}\n",
    "        }\n",
    "        f['properties']['osmid'] = str(f['properties']['osmid'])\n",
    "        f['properties']['oneway'] = str(f['properties']['oneway'])\n",
    "        features.append(f)\n",
    "    gjson = geojson.FeatureCollection(features)\n",
    "    return gjson"
   ]
  },
  {
   "cell_type": "code",
   "execution_count": 82,
   "metadata": {},
   "outputs": [
    {
     "name": "stderr",
     "output_type": "stream",
     "text": [
      "100%|██████████| 131/131 [00:09<00:00, 14.00it/s, filename=./matched_routes_20210610/ytororo--ypan (0.1, 0.0).json]                              \n"
     ]
    }
   ],
   "source": [
    "root = './matched_routes_20210610'\n",
    "os.makedirs(root, exist_ok=True)\n",
    "wb_fields_to_include = ['roughness']\n",
    "\n",
    "with tqdm(matches) as bar:\n",
    "    for m in bar:\n",
    "        if m['route'] is None:\n",
    "            continue\n",
    "        p1_name = m['p1_name']\n",
    "        p2_name = m['p2_name']\n",
    "        route = m['route']\n",
    "        edge_infos = [\n",
    "            edges.loc[(u, v, 0)].to_dict()\n",
    "            for u, v in zip(route[:-1], route[1:])\n",
    "        ]\n",
    "        \n",
    "        wb_data = df[(df.endpoint_1 == p1_name) & (df.endpoint_2 == p2_name)]\n",
    "        wb_data = next(wb_data.itertuples(index=False))._asdict()\n",
    "        wb_data = {k: wb_data[k] for k in wb_fields_to_include}\n",
    "        for d in edge_infos:\n",
    "            d.update(wb_data)\n",
    "\n",
    "        gjson = edges_to_geojson(edge_infos)\n",
    "        \n",
    "        filename = f'{root}/{p1_name}--{p2_name} ({m[\"diff\"]:.1f}, {m[\"rel_error\"]:.1f}).json'\n",
    "        bar.set_postfix({\n",
    "            'filename': filename\n",
    "        })\n",
    "        with open(filename, 'w') as f:\n",
    "            json.dump(gjson, f)\n"
   ]
  },
  {
   "cell_type": "code",
   "execution_count": null,
   "metadata": {},
   "outputs": [],
   "source": []
  }
 ],
 "metadata": {
  "kernelspec": {
   "display_name": "Python 3.7.9 64-bit ('base': conda)",
   "language": "python",
   "name": "python37964bitbaseconda1f87cf499c9842d2bb8d55e1f9beba59"
  },
  "language_info": {
   "codemirror_mode": {
    "name": "ipython",
    "version": 3
   },
   "file_extension": ".py",
   "mimetype": "text/x-python",
   "name": "python",
   "nbconvert_exporter": "python",
   "pygments_lexer": "ipython3",
   "version": "3.7.9"
  }
 },
 "nbformat": 4,
 "nbformat_minor": 4
}
