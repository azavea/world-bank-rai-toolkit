{
 "cells": [
  {
   "cell_type": "code",
   "execution_count": null,
   "metadata": {},
   "outputs": [],
   "source": [
    "import pandas as pd\n",
    "import geopandas as gpd\n",
    "import numpy as np\n",
    "from tqdm import tqdm"
   ]
  },
  {
   "cell_type": "code",
   "execution_count": 27,
   "metadata": {},
   "outputs": [],
   "source": [
    "from pyproj import Geod, CRS\n",
    "from shapely.geometry import Point, LineString"
   ]
  },
  {
   "cell_type": "code",
   "execution_count": null,
   "metadata": {},
   "outputs": [],
   "source": [
    "import osmnx as ox\n",
    "import networkx as nx\n",
    "import gc\n",
    "ox.config(use_cache=True, log_console=True)"
   ]
  },
  {
   "cell_type": "code",
   "execution_count": 30,
   "metadata": {},
   "outputs": [],
   "source": [
    "from itertools import product"
   ]
  },
  {
   "cell_type": "code",
   "execution_count": 53,
   "metadata": {},
   "outputs": [],
   "source": [
    "import matplotlib.pyplot as plt\n",
    "import matplotlib.patches as patches\n",
    "import seaborn as sns\n",
    "sns.reset_defaults()\n",
    "\n",
    "plt.style.use(\"dark_background\")"
   ]
  },
  {
   "cell_type": "code",
   "execution_count": 75,
   "metadata": {},
   "outputs": [],
   "source": [
    "import geojson\n",
    "import os\n",
    "import json\n",
    "from shapely.geometry import mapping\n",
    "from shapely.geometry.multilinestring import MultiLineString"
   ]
  },
  {
   "cell_type": "code",
   "execution_count": 28,
   "metadata": {},
   "outputs": [],
   "source": [
    "GEOD = CRS.from_epsg(4326).get_geod()"
   ]
  },
  {
   "cell_type": "markdown",
   "metadata": {},
   "source": [
    "## Load WB data"
   ]
  },
  {
   "cell_type": "code",
   "execution_count": 2,
   "metadata": {},
   "outputs": [],
   "source": [
    "df = pd.read_csv('./simple_cases.csv')"
   ]
  },
  {
   "cell_type": "markdown",
   "metadata": {},
   "source": [
    "## Load OSM places data"
   ]
  },
  {
   "cell_type": "code",
   "execution_count": 7,
   "metadata": {},
   "outputs": [],
   "source": [
    "import unicodedata as ud\n",
    "\n",
    "# https://stackoverflow.com/a/15547803/5908685\n",
    "def rmdiacritics(char):\n",
    "    '''\n",
    "    Return the base character of char, by \"removing\" any\n",
    "    diacritics like accents or curls and strokes and the like.\n",
    "    '''\n",
    "    desc = ud.name(char)\n",
    "    cutoff = desc.find(' WITH ')\n",
    "    if cutoff != -1:\n",
    "        desc = desc[:cutoff]\n",
    "        try:\n",
    "            char = ud.lookup(desc)\n",
    "        except KeyError:\n",
    "            pass  # removing \"WITH ...\" produced an invalid name\n",
    "    return char\n",
    "\n",
    "def remove_diacritics(s: str):\n",
    "    return ''.join(map(rmdiacritics, s))\n"
   ]
  },
  {
   "cell_type": "code",
   "execution_count": 24,
   "metadata": {},
   "outputs": [
    {
     "name": "stdout",
     "output_type": "stream",
     "text": [
      "initial 2371\n",
      "non-null name 2210\n",
      "no KM markers 1550\n",
      "no zone markers 1508\n"
     ]
    }
   ],
   "source": [
    "gdf = gpd.read_file('guatemala-latest-free.shp/gis_osm_places_free_1.shp')\n",
    "print('initial', len(gdf))\n",
    "gdf = pd.DataFrame(gdf[~gdf.name.isnull()])\n",
    "print('non-null name', len(gdf))\n",
    "gdf = pd.DataFrame(gdf[~gdf.name.str.contains('^km\\.?\\s+\\d+$', case=False)])\n",
    "print('no KM markers', len(gdf))\n",
    "gdf = pd.DataFrame(gdf[~gdf.name.str.contains('^zona\\.?\\s+\\d+$', case=False)])\n",
    "print('no zone markers', len(gdf))\n",
    "gdf.loc[:, 'name'] = gdf.name.str.lower().map(remove_diacritics)"
   ]
  },
  {
   "cell_type": "code",
   "execution_count": null,
   "metadata": {
    "scrolled": true,
    "tags": []
   },
   "outputs": [],
   "source": [
    "places = np.array(gdf.name.to_list())\n",
    "places_set = set(places)\n",
    "places_to_geoms = {}\n",
    "for p in places_set:\n",
    "    g = gdf[places == p].geometry.to_list()\n",
    "    places_to_geoms[p] = g\n",
    "places_to_geoms"
   ]
  },
  {
   "cell_type": "code",
   "execution_count": null,
   "metadata": {},
   "outputs": [],
   "source": [
    "highway_types_to_inlcude = '|'.join([\n",
    "    'primary',\n",
    "    'secondary',\n",
    "    'tertiary',\n",
    "    'trunk',\n",
    "    'motorway',\n",
    "    'unclassified',\n",
    "    'primary_link',\n",
    "    'secondary_link',\n",
    "    'tertiary_link',\n",
    "    'trunk_link',\n",
    "    'motorway_link'\n",
    "])\n",
    "custom_filter = f'[\"highway\"~\"{highway_types_to_inlcude}\"]'\n",
    "\n",
    "G = ox.graph_from_place(\n",
    "    'Guatemala',\n",
    "    network_type='drive',\n",
    "    custom_filter=custom_filter,\n",
    "    simplify=False)\n",
    "\n",
    "gc.collect()"
   ]
  },
  {
   "cell_type": "markdown",
   "metadata": {},
   "source": [
    "Save graph:"
   ]
  },
  {
   "cell_type": "code",
   "execution_count": null,
   "metadata": {},
   "outputs": [],
   "source": [
    "# ox.save_graphml(G, 'graph.graphml')"
   ]
  },
  {
   "cell_type": "markdown",
   "metadata": {},
   "source": [
    "Load saved graph:"
   ]
  },
  {
   "cell_type": "code",
   "execution_count": null,
   "metadata": {},
   "outputs": [],
   "source": [
    "# G = ox.load_graphml('graph.graphml')\n",
    "gc.collect()"
   ]
  },
  {
   "cell_type": "code",
   "execution_count": 42,
   "metadata": {},
   "outputs": [],
   "source": [
    "def straight_line_distance(p1, p2):\n",
    "    line_string = LineString((p1, p2))\n",
    "    dist = GEOD.geometry_length(line_string)\n",
    "    return dist\n",
    "\n",
    "def get_route_info(G, p1, p2, km=True):\n",
    "    start = p1.coords[0]\n",
    "    end = p2.coords[0]\n",
    "    start_node = ox.distance.nearest_nodes(G, *start)\n",
    "    end_node = ox.distance.nearest_nodes(G, *end)\n",
    "\n",
    "    route = None\n",
    "    route_length = np.inf\n",
    "    try:\n",
    "        route = nx.shortest_path(G, start_node, end_node, weight='length')\n",
    "        route_length = nx.shortest_path_length(\n",
    "            G, start_node, end_node, weight='length')\n",
    "    except:\n",
    "        pass\n",
    "    out = {\n",
    "        'start_node': start_node,\n",
    "        'end_node': end_node,\n",
    "        'route': route,\n",
    "        'length': route_length / 1e3 if km else route_length,\n",
    "    }\n",
    "    return out\n",
    "\n",
    "def select_points(p1_candidates, p2_candidates, wb_length):\n",
    "    pairs = list(product(p1_candidates, p2_candidates))\n",
    "    straight_dists = [straight_line_distance(p1, p2) for p1, p2 in pairs]\n",
    "    straight_dists = np.array(straight_dists) / 1e3\n",
    "    diffs = np.abs(straight_dists - wb_length)\n",
    "    min_diff_idx = np.argmin(diffs)\n",
    "    p1, p2 = pairs[min_diff_idx]\n",
    "    min_diff_dist = straight_dists[min_diff_idx]\n",
    "    return p1, p2, min_diff_dist"
   ]
  },
  {
   "cell_type": "code",
   "execution_count": 51,
   "metadata": {},
   "outputs": [
    {
     "name": "stderr",
     "output_type": "stream",
     "text": [
      "  3%|▎         | 11/318 [00:18<17:53,  3.50s/it, start=acatenango, end=la soledad, diff=-1.46, matches=2] "
     ]
    },
    {
     "name": "stdout",
     "output_type": "stream",
     "text": [
      "Skipping san benito -- el recreo: wb_length=9.4, st_ln_dist=126.7\n",
      "Skipping san benito -- santa rita: wb_length=17.6, st_ln_dist=69.0\n",
      "Skipping santa rita -- la libertad: wb_length=7.9, st_ln_dist=61.9\n"
     ]
    },
    {
     "name": "stderr",
     "output_type": "stream",
     "text": [
      " 23%|██▎       | 74/318 [02:06<11:55,  2.93s/it, start=salama, end=llano grande, diff=0.889, matches=19]                     "
     ]
    },
    {
     "name": "stdout",
     "output_type": "stream",
     "text": [
      "Skipping chiquimula -- la laguna: wb_length=9.5, st_ln_dist=104.1\n",
      "Skipping san jacinto -- san martin jilotepeque: wb_length=8.9, st_ln_dist=139.4\n"
     ]
    },
    {
     "name": "stderr",
     "output_type": "stream",
     "text": [
      " 37%|███▋      | 117/318 [03:26<16:43,  4.99s/it, start=san antonio suchitepequez, end=santo tomas la union, diff=0.36, matches=32]"
     ]
    },
    {
     "name": "stdout",
     "output_type": "stream",
     "text": [
      "Skipping palin -- nuevo progreso: wb_length=4.3, st_ln_dist=138.6\n"
     ]
    },
    {
     "name": "stderr",
     "output_type": "stream",
     "text": [
      " 43%|████▎     | 138/318 [03:51<11:23,  3.80s/it, start=san francisco el alto, end=momostenango, diff=-.0981, matches=36]          "
     ]
    },
    {
     "name": "stdout",
     "output_type": "stream",
     "text": [
      "Skipping san francisco -- el progreso: wb_length=4.3, st_ln_dist=119.3\n"
     ]
    },
    {
     "name": "stderr",
     "output_type": "stream",
     "text": [
      " 46%|████▌     | 147/318 [04:10<10:31,  3.69s/it, start=chicacao, end=san miguel panan, diff=-.0221, matches=39]         "
     ]
    },
    {
     "name": "stdout",
     "output_type": "stream",
     "text": [
      "Skipping salama -- tempisque: wb_length=10.0, st_ln_dist=100.0\n",
      "Skipping san jeronimo -- santa barbara: wb_length=7.4, st_ln_dist=102.7\n"
     ]
    },
    {
     "name": "stderr",
     "output_type": "stream",
     "text": [
      " 49%|████▉     | 156/318 [04:16<07:31,  2.79s/it, start=santa lucia utatlan, end=san jose chacaya, diff=-6.71, matches=40]"
     ]
    },
    {
     "name": "stdout",
     "output_type": "stream",
     "text": [
      "Skipping el silencio -- las cruces: wb_length=2.4, st_ln_dist=293.5\n"
     ]
    },
    {
     "name": "stderr",
     "output_type": "stream",
     "text": [
      " 52%|█████▏    | 166/318 [04:29<05:33,  2.19s/it, start=palencia, end=los mixcos, diff=-1.89, matches=42]                 "
     ]
    },
    {
     "name": "stdout",
     "output_type": "stream",
     "text": [
      "Skipping los mixcos -- santa rita: wb_length=5.7, st_ln_dist=45.7\n",
      "Skipping santa rita -- san jose pinula: wb_length=8.7, st_ln_dist=54.7\n",
      "Skipping el carrizal -- chuarrancho: wb_length=7.5, st_ln_dist=96.9\n"
     ]
    },
    {
     "name": "stderr",
     "output_type": "stream",
     "text": [
      " 54%|█████▍    | 172/318 [04:35<04:28,  1.84s/it, start=san juan sacatepequez, end=sajcavilla, diff=1.82, matches=43]"
     ]
    },
    {
     "name": "stdout",
     "output_type": "stream",
     "text": [
      "Skipping teculutan -- la palmilla: wb_length=4.2, st_ln_dist=65.0\n"
     ]
    },
    {
     "name": "stderr",
     "output_type": "stream",
     "text": [
      " 59%|█████▉    | 189/318 [04:54<08:24,  3.91s/it, start=cabanas, end=san diego, diff=-.433, matches=46]              "
     ]
    },
    {
     "name": "stdout",
     "output_type": "stream",
     "text": [
      "Skipping san raymundo -- el carrizal: wb_length=6.5, st_ln_dist=86.4\n"
     ]
    },
    {
     "name": "stderr",
     "output_type": "stream",
     "text": [
      " 61%|██████▏   | 195/318 [05:07<06:28,  3.16s/it, start=huitan, end=cabrican, diff=-.176, matches=48]         "
     ]
    },
    {
     "name": "stdout",
     "output_type": "stream",
     "text": [
      "Skipping san sebastian -- el obraje: wb_length=5.1, st_ln_dist=229.0\n",
      "Skipping el cedro -- chiriqui: wb_length=6.0, st_ln_dist=208.8\n"
     ]
    },
    {
     "name": "stderr",
     "output_type": "stream",
     "text": [
      " 65%|██████▍   | 206/318 [05:13<04:26,  2.38s/it, start=agua chiquita, end=tuila, diff=0.297, matches=49]"
     ]
    },
    {
     "name": "stdout",
     "output_type": "stream",
     "text": [
      "Skipping santa isabel -- actela: wb_length=7.8, st_ln_dist=269.0\n"
     ]
    },
    {
     "name": "stderr",
     "output_type": "stream",
     "text": [
      " 68%|██████▊   | 217/318 [05:44<05:22,  3.19s/it, start=guastatoya, end=el rancho, diff=1.08, matches=54]             "
     ]
    },
    {
     "name": "stdout",
     "output_type": "stream",
     "text": [
      "Skipping nenton -- finca la trinidad: wb_length=29.9, st_ln_dist=184.1\n"
     ]
    },
    {
     "name": "stderr",
     "output_type": "stream",
     "text": [
      " 79%|███████▉  | 252/318 [06:34<03:33,  3.24s/it, start=chiquimula, end=san jose la arada, diff=0.679, matches=62]             "
     ]
    },
    {
     "name": "stdout",
     "output_type": "stream",
     "text": [
      "Skipping ipala -- agua tibia: wb_length=6.1, st_ln_dist=66.7\n"
     ]
    },
    {
     "name": "stderr",
     "output_type": "stream",
     "text": [
      " 81%|████████  | 256/318 [06:46<04:01,  3.89s/it, start=flores costa cuca, end=coatepeque, diff=-2.97, matches=64]"
     ]
    },
    {
     "name": "stdout",
     "output_type": "stream",
     "text": [
      "Skipping el pinal -- comapa: wb_length=10.1, st_ln_dist=50.4\n"
     ]
    },
    {
     "name": "stderr",
     "output_type": "stream",
     "text": [
      " 83%|████████▎ | 263/318 [07:11<04:22,  4.78s/it, start=santa cruz del quiche, end=san antonio ilotenango, diff=-1.62, matches=68]"
     ]
    },
    {
     "name": "stdout",
     "output_type": "stream",
     "text": [
      "Skipping jutiapa -- las anonas: wb_length=16.2, st_ln_dist=51.2\n",
      "Skipping las anonas -- ayarza: wb_length=9.1, st_ln_dist=64.9\n"
     ]
    },
    {
     "name": "stderr",
     "output_type": "stream",
     "text": [
      " 86%|████████▌ | 273/318 [07:24<03:18,  4.41s/it, start=san andres sajcabaja, end=canilla, diff=-.828, matches=70]                "
     ]
    },
    {
     "name": "stdout",
     "output_type": "stream",
     "text": [
      "Skipping jalapa -- el tablon: wb_length=5.3, st_ln_dist=38.9\n"
     ]
    },
    {
     "name": "stderr",
     "output_type": "stream",
     "text": [
      " 88%|████████▊ | 279/318 [07:30<02:12,  3.40s/it, start=el progreso, end=horcones, diff=-23.3, matches=71]        "
     ]
    },
    {
     "name": "stdout",
     "output_type": "stream",
     "text": [
      "Skipping pinalito -- san pedro pinula: wb_length=3.8, st_ln_dist=62.3\n",
      "Skipping el tablon -- pinalito: wb_length=10.6, st_ln_dist=73.7\n"
     ]
    },
    {
     "name": "stderr",
     "output_type": "stream",
     "text": [
      " 94%|█████████▎| 298/318 [08:01<01:18,  3.91s/it, start=cuilco, end=tectitan, diff=-1.39, matches=76]                             "
     ]
    },
    {
     "name": "stdout",
     "output_type": "stream",
     "text": [
      "Skipping chajul -- ilom: wb_length=46.0, st_ln_dist=20.6\n"
     ]
    },
    {
     "name": "stderr",
     "output_type": "stream",
     "text": [
      " 96%|█████████▌| 306/318 [08:26<00:46,  3.87s/it, start=san pedro pinula, end=san luis jilotepeque, diff=0.24, matches=80]"
     ]
    },
    {
     "name": "stdout",
     "output_type": "stream",
     "text": [
      "Skipping palencia -- agua caliente: wb_length=16.9, st_ln_dist=96.8\n"
     ]
    },
    {
     "name": "stderr",
     "output_type": "stream",
     "text": [
      "100%|██████████| 318/318 [08:33<00:00,  1.61s/it, start=san marcos, end=san rafael pie de la cuesta, diff=0.0967, matches=81]\n"
     ]
    }
   ],
   "source": [
    "matches = []\n",
    "with tqdm(df.itertuples(), total=len(df)) as bar:\n",
    "    for i, row in enumerate(bar):\n",
    "        p1_name = row.endpoint_1\n",
    "        p2_name = row.endpoint_2\n",
    "        p1_candidates = places_to_geoms.get(p1_name, None)\n",
    "        p2_candidates = places_to_geoms.get(p2_name, None)\n",
    "        if p1_candidates is None or p2_candidates is None:\n",
    "            continue\n",
    "            \n",
    "        wb_length = float(row.length)\n",
    "        \n",
    "        p1, p2, straight_line_dist = select_points(p1_candidates, p2_candidates, wb_length)\n",
    "\n",
    "        if abs(wb_length - straight_line_dist) > 20:\n",
    "            print(f'Skipping {p1_name} -- {p2_name}: wb_length={wb_length:.1f}, st_ln_dist={straight_line_dist:.1f}')\n",
    "            continue\n",
    "\n",
    "        route_info = get_route_info(G, p1, p2)\n",
    "        info = {\n",
    "            'p1_name': p1_name,\n",
    "            'p2_name': p2_name,\n",
    "            'p1': p1,\n",
    "            'p2': p2,\n",
    "            'wb_length': wb_length,\n",
    "            'straight_line_dist': straight_line_distance(p1, p2) / 1e3\n",
    "        }\n",
    "        info.update(route_info)\n",
    "        info['diff'] = wb_length - route_info['length']\n",
    "        info['rel_error'] = abs(info['diff']) / wb_length\n",
    "\n",
    "        bar.set_postfix({\n",
    "            'start': p1_name,\n",
    "            'end': p2_name,\n",
    "            'diff': info['diff'],\n",
    "            'matches': len(matches)\n",
    "        })\n",
    "        matches.append(info)\n",
    "gc.collect()"
   ]
  },
  {
   "cell_type": "code",
   "execution_count": 54,
   "metadata": {},
   "outputs": [],
   "source": [
    "diffs = np.array([m['diff'] for m in matches if abs(m['diff']) < np.inf])"
   ]
  },
  {
   "cell_type": "code",
   "execution_count": 56,
   "metadata": {},
   "outputs": [
    {
     "data": {
      "text/plain": [
       "(75, 0.2358490566037736)"
      ]
     },
     "execution_count": 56,
     "metadata": {},
     "output_type": "execute_result"
    }
   ],
   "source": [
    "nmatched = (np.abs(diffs) < 5).sum()\n",
    "nmatched, nmatched / len(df)"
   ]
  },
  {
   "cell_type": "code",
   "execution_count": 63,
   "metadata": {},
   "outputs": [
    {
     "data": {
      "image/png": "[encoded data removed]",
      "text/plain": [
       "<Figure size 640x480 with 1 Axes>"
      ]
     },
     "metadata": {},
     "output_type": "display_data"
    }
   ],
   "source": [
    "plt.hist(diffs, bins=30)\n",
    "plt.xlabel('WB length minus computed length (KM)')\n",
    "plt.ylabel('Count')\n",
    "plt.show()"
   ]
  },
  {
   "cell_type": "code",
   "execution_count": 64,
   "metadata": {},
   "outputs": [
    {
     "data": {
      "image/png": "[encoded data removed]",
      "text/plain": [
       "<Figure size 640x480 with 1 Axes>"
      ]
     },
     "metadata": {},
     "output_type": "display_data"
    }
   ],
   "source": [
    "plt.hist([m['rel_error']*100 for m in matches], bins=30)\n",
    "plt.xlabel('Relative error (%)')\n",
    "plt.ylabel('Count')\n",
    "plt.show()"
   ]
  },
  {
   "cell_type": "code",
   "execution_count": 59,
   "metadata": {},
   "outputs": [
    {
     "data": {
      "image/png": "[encoded data removed]",
      "text/plain": [
       "<Figure size 640x480 with 1 Axes>"
      ]
     },
     "metadata": {},
     "output_type": "display_data"
    }
   ],
   "source": [
    "plt.scatter([m['wb_length'] for m in matches], [m['length'] for m in matches])\n",
    "plt.xlabel('Length in WB data (KM)')\n",
    "plt.ylabel('Length of computed route (KM)')\n",
    "plt.show()"
   ]
  },
  {
   "cell_type": "code",
   "execution_count": 65,
   "metadata": {},
   "outputs": [
    {
     "data": {
      "image/png": "[encoded data removed]",
      "text/plain": [
       "<Figure size 640x480 with 1 Axes>"
      ]
     },
     "metadata": {},
     "output_type": "display_data"
    }
   ],
   "source": [
    "plt.scatter([m['wb_length'] for m in matches], [m['straight_line_dist'] for m in matches])\n",
    "plt.xlabel('Length in WB data (KM)')\n",
    "plt.ylabel('Straight line distance (KM)')\n",
    "plt.show()"
   ]
  },
  {
   "cell_type": "markdown",
   "metadata": {},
   "source": [
    "## Save matched routes"
   ]
  },
  {
   "cell_type": "code",
   "execution_count": 76,
   "metadata": {},
   "outputs": [],
   "source": [
    "nodes, edges = ox.graph_to_gdfs(G)"
   ]
  },
  {
   "cell_type": "code",
   "execution_count": 77,
   "metadata": {},
   "outputs": [],
   "source": [
    "def edges_to_geojson(edge_infos):\n",
    "    features = []\n",
    "    for info in edge_infos:\n",
    "        f = {\n",
    "            'type': 'Feature',\n",
    "            'geometry': mapping(info['geometry']),\n",
    "            'properties': {k: v for (k, v) in info.items() if k not in ['geometry']}\n",
    "        }\n",
    "        f['properties']['osmid'] = str(f['properties']['osmid'])\n",
    "        f['properties']['oneway'] = str(f['properties']['oneway'])\n",
    "        features.append(f)\n",
    "    gjson = geojson.FeatureCollection(features)\n",
    "    return gjson"
   ]
  },
  {
   "cell_type": "code",
   "execution_count": 78,
   "metadata": {},
   "outputs": [
    {
     "name": "stderr",
     "output_type": "stream",
     "text": [
      "100%|██████████| 82/82 [00:08<00:00,  9.13it/s, filename=./matched_routes/san marcos--san rafael pie de la cuesta (0.1, 0.0).json]        \n"
     ]
    }
   ],
   "source": [
    "root = './matched_routes'\n",
    "os.makedirs(root, exist_ok=True)\n",
    "\n",
    "with tqdm(matches) as bar:\n",
    "    for m in bar:\n",
    "        p1_name = m['p1_name']\n",
    "        p2_name = m['p2_name']\n",
    "        route = m['route']\n",
    "        edge_infos = [\n",
    "            edges.loc[(u, v, 0)].to_dict()\n",
    "            for u, v in zip(route[:-1], route[1:])\n",
    "        ]\n",
    "        filename = f'{root}/{p1_name}--{p2_name} ({m[\"diff\"]:.1f}, {m[\"rel_error\"]:.1f}).json'\n",
    "        bar.set_postfix({\n",
    "            'filename': filename\n",
    "        })\n",
    "        gjson = edges_to_geojson(edge_infos)\n",
    "        with open(filename, 'w') as f:\n",
    "            json.dump(gjson, f)\n"
   ]
  }
 ],
 "metadata": {
  "kernelspec": {
   "display_name": "Python 3.7.9 64-bit ('base': conda)",
   "language": "python",
   "name": "python37964bitbaseconda1f87cf499c9842d2bb8d55e1f9beba59"
  },
  "language_info": {
   "codemirror_mode": {
    "name": "ipython",
    "version": 3
   },
   "file_extension": ".py",
   "mimetype": "text/x-python",
   "name": "python",
   "nbconvert_exporter": "python",
   "pygments_lexer": "ipython3",
   "version": "3.7.9"
  }
 },
 "nbformat": 4,
 "nbformat_minor": 4
}
